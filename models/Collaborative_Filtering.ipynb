{
 "cells": [
  {
   "cell_type": "code",
   "execution_count": 1,
   "metadata": {},
   "outputs": [],
   "source": [
    "import numpy as np\n",
    "import pandas as pd\n",
    "import matplotlib.pyplot as plt\n",
    "from sklearn.model_selection import train_test_split\n",
    "import time\n",
    "import pickle\n",
    "import implicit\n",
    "from scipy.sparse import csr_matrix\n",
    "import glob"
   ]
  },
  {
   "cell_type": "markdown",
   "metadata": {},
   "source": [
    "In this notebook, we use the collaborative filtering model by importing the implicit package in python.\n",
    "Because collaborative filtering requires a large user pool, we trained the model using the first 31,000 playlists to ensure consistency of the project and reduce running time. However, by increasing the size of traing set, our model accuracy could be further improved "
   ]
  },
  {
   "cell_type": "code",
   "execution_count": 2,
   "metadata": {},
   "outputs": [],
   "source": [
    "# path = \"Songs/\"\n",
    "# all_files = glob.glob(path + \"/*.csv\")\n",
    "\n",
    "# def rank(path):\n",
    "#     return int(path.split('/')[1].split('.')[0][5:])\n",
    "\n",
    "# all_files = sorted(all_files, key=rank)\n",
    "# all_files = all_files[:100]\n",
    "# li = []\n",
    "# pid_base = 0\n",
    "# for filename in all_files:\n",
    "#     df = pd.read_csv(filename, index_col=None)\n",
    "#     df['pid'] = df['pid'] + pid_base\n",
    "#     li.append(df)\n",
    "#     pid_base += 1000\n",
    "\n",
    "# df = pd.concat(li, axis=0, ignore_index=True)\n",
    "df = pd.read_csv('first30.csv')"
   ]
  },
  {
   "cell_type": "code",
   "execution_count": 3,
   "metadata": {},
   "outputs": [
    {
     "data": {
      "text/html": [
       "<div>\n",
       "<style scoped>\n",
       "    .dataframe tbody tr th:only-of-type {\n",
       "        vertical-align: middle;\n",
       "    }\n",
       "\n",
       "    .dataframe tbody tr th {\n",
       "        vertical-align: top;\n",
       "    }\n",
       "\n",
       "    .dataframe thead th {\n",
       "        text-align: right;\n",
       "    }\n",
       "</style>\n",
       "<table border=\"1\" class=\"dataframe\">\n",
       "  <thead>\n",
       "    <tr style=\"text-align: right;\">\n",
       "      <th></th>\n",
       "      <th>pid</th>\n",
       "      <th>pos</th>\n",
       "      <th>artist_name</th>\n",
       "      <th>track_uri</th>\n",
       "      <th>artist_uri</th>\n",
       "      <th>track_name</th>\n",
       "      <th>album_uri</th>\n",
       "      <th>duration_ms</th>\n",
       "      <th>album_name</th>\n",
       "      <th>danceability</th>\n",
       "      <th>energy</th>\n",
       "      <th>key</th>\n",
       "      <th>loudness</th>\n",
       "      <th>mode</th>\n",
       "      <th>speechiness</th>\n",
       "      <th>acousticness</th>\n",
       "      <th>instrumentalness</th>\n",
       "      <th>liveness</th>\n",
       "      <th>valence</th>\n",
       "      <th>tempo</th>\n",
       "    </tr>\n",
       "  </thead>\n",
       "  <tbody>\n",
       "    <tr>\n",
       "      <td>0</td>\n",
       "      <td>0</td>\n",
       "      <td>0</td>\n",
       "      <td>Missy Elliott</td>\n",
       "      <td>spotify:track:0UaMYEvWZi0ZqiDOoHU3YI</td>\n",
       "      <td>spotify:artist:2wIVse2owClT7go1WT98tk</td>\n",
       "      <td>Lose Control (feat. Ciara &amp; Fat Man Scoop)</td>\n",
       "      <td>spotify:album:6vV5UrXcfyQD1wu4Qo2I9K</td>\n",
       "      <td>226863</td>\n",
       "      <td>The Cookbook</td>\n",
       "      <td>0.904</td>\n",
       "      <td>0.813</td>\n",
       "      <td>4.0</td>\n",
       "      <td>-7.105</td>\n",
       "      <td>0.0</td>\n",
       "      <td>0.1210</td>\n",
       "      <td>0.03110</td>\n",
       "      <td>0.006970</td>\n",
       "      <td>0.0471</td>\n",
       "      <td>0.810</td>\n",
       "      <td>125.461</td>\n",
       "    </tr>\n",
       "    <tr>\n",
       "      <td>1</td>\n",
       "      <td>0</td>\n",
       "      <td>1</td>\n",
       "      <td>Britney Spears</td>\n",
       "      <td>spotify:track:6I9VzXrHxO9rA9A5euc8Ak</td>\n",
       "      <td>spotify:artist:26dSoYclwsYLMAKD3tpOr4</td>\n",
       "      <td>Toxic</td>\n",
       "      <td>spotify:album:0z7pVBGOD7HCIB7S8eLkLI</td>\n",
       "      <td>198800</td>\n",
       "      <td>In The Zone</td>\n",
       "      <td>0.774</td>\n",
       "      <td>0.838</td>\n",
       "      <td>5.0</td>\n",
       "      <td>-3.914</td>\n",
       "      <td>0.0</td>\n",
       "      <td>0.1140</td>\n",
       "      <td>0.02490</td>\n",
       "      <td>0.025000</td>\n",
       "      <td>0.2420</td>\n",
       "      <td>0.924</td>\n",
       "      <td>143.040</td>\n",
       "    </tr>\n",
       "    <tr>\n",
       "      <td>2</td>\n",
       "      <td>0</td>\n",
       "      <td>2</td>\n",
       "      <td>Beyoncé</td>\n",
       "      <td>spotify:track:0WqIKmW4BTrj3eJFmnCKMv</td>\n",
       "      <td>spotify:artist:6vWDO969PvNqNYHIOW5v0m</td>\n",
       "      <td>Crazy In Love</td>\n",
       "      <td>spotify:album:25hVFAxTlDvXbx2X2QkUkE</td>\n",
       "      <td>235933</td>\n",
       "      <td>Dangerously In Love (Alben für die Ewigkeit)</td>\n",
       "      <td>0.664</td>\n",
       "      <td>0.758</td>\n",
       "      <td>2.0</td>\n",
       "      <td>-6.583</td>\n",
       "      <td>0.0</td>\n",
       "      <td>0.2100</td>\n",
       "      <td>0.00238</td>\n",
       "      <td>0.000000</td>\n",
       "      <td>0.0598</td>\n",
       "      <td>0.701</td>\n",
       "      <td>99.259</td>\n",
       "    </tr>\n",
       "    <tr>\n",
       "      <td>3</td>\n",
       "      <td>0</td>\n",
       "      <td>3</td>\n",
       "      <td>Justin Timberlake</td>\n",
       "      <td>spotify:track:1AWQoqb9bSvzTjaLralEkT</td>\n",
       "      <td>spotify:artist:31TPClRtHm23RisEBtV3X7</td>\n",
       "      <td>Rock Your Body</td>\n",
       "      <td>spotify:album:6QPkyl04rXwTGlGlcYaRoW</td>\n",
       "      <td>267266</td>\n",
       "      <td>Justified</td>\n",
       "      <td>0.891</td>\n",
       "      <td>0.714</td>\n",
       "      <td>4.0</td>\n",
       "      <td>-6.055</td>\n",
       "      <td>0.0</td>\n",
       "      <td>0.1400</td>\n",
       "      <td>0.20200</td>\n",
       "      <td>0.000234</td>\n",
       "      <td>0.0521</td>\n",
       "      <td>0.818</td>\n",
       "      <td>100.972</td>\n",
       "    </tr>\n",
       "    <tr>\n",
       "      <td>4</td>\n",
       "      <td>0</td>\n",
       "      <td>4</td>\n",
       "      <td>Shaggy</td>\n",
       "      <td>spotify:track:1lzr43nnXAijIGYnCT8M8H</td>\n",
       "      <td>spotify:artist:5EvFsr3kj42KNv97ZEnqij</td>\n",
       "      <td>It Wasn't Me</td>\n",
       "      <td>spotify:album:6NmFmPX56pcLBOFMhIiKvF</td>\n",
       "      <td>227600</td>\n",
       "      <td>Hot Shot</td>\n",
       "      <td>0.853</td>\n",
       "      <td>0.606</td>\n",
       "      <td>0.0</td>\n",
       "      <td>-4.596</td>\n",
       "      <td>1.0</td>\n",
       "      <td>0.0713</td>\n",
       "      <td>0.05610</td>\n",
       "      <td>0.000000</td>\n",
       "      <td>0.3130</td>\n",
       "      <td>0.654</td>\n",
       "      <td>94.759</td>\n",
       "    </tr>\n",
       "  </tbody>\n",
       "</table>\n",
       "</div>"
      ],
      "text/plain": [
       "   pid  pos        artist_name                             track_uri  \\\n",
       "0    0    0      Missy Elliott  spotify:track:0UaMYEvWZi0ZqiDOoHU3YI   \n",
       "1    0    1     Britney Spears  spotify:track:6I9VzXrHxO9rA9A5euc8Ak   \n",
       "2    0    2            Beyoncé  spotify:track:0WqIKmW4BTrj3eJFmnCKMv   \n",
       "3    0    3  Justin Timberlake  spotify:track:1AWQoqb9bSvzTjaLralEkT   \n",
       "4    0    4             Shaggy  spotify:track:1lzr43nnXAijIGYnCT8M8H   \n",
       "\n",
       "                              artist_uri  \\\n",
       "0  spotify:artist:2wIVse2owClT7go1WT98tk   \n",
       "1  spotify:artist:26dSoYclwsYLMAKD3tpOr4   \n",
       "2  spotify:artist:6vWDO969PvNqNYHIOW5v0m   \n",
       "3  spotify:artist:31TPClRtHm23RisEBtV3X7   \n",
       "4  spotify:artist:5EvFsr3kj42KNv97ZEnqij   \n",
       "\n",
       "                                   track_name  \\\n",
       "0  Lose Control (feat. Ciara & Fat Man Scoop)   \n",
       "1                                       Toxic   \n",
       "2                               Crazy In Love   \n",
       "3                              Rock Your Body   \n",
       "4                                It Wasn't Me   \n",
       "\n",
       "                              album_uri  duration_ms  \\\n",
       "0  spotify:album:6vV5UrXcfyQD1wu4Qo2I9K       226863   \n",
       "1  spotify:album:0z7pVBGOD7HCIB7S8eLkLI       198800   \n",
       "2  spotify:album:25hVFAxTlDvXbx2X2QkUkE       235933   \n",
       "3  spotify:album:6QPkyl04rXwTGlGlcYaRoW       267266   \n",
       "4  spotify:album:6NmFmPX56pcLBOFMhIiKvF       227600   \n",
       "\n",
       "                                     album_name  danceability  energy  key  \\\n",
       "0                                  The Cookbook         0.904   0.813  4.0   \n",
       "1                                   In The Zone         0.774   0.838  5.0   \n",
       "2  Dangerously In Love (Alben für die Ewigkeit)         0.664   0.758  2.0   \n",
       "3                                     Justified         0.891   0.714  4.0   \n",
       "4                                      Hot Shot         0.853   0.606  0.0   \n",
       "\n",
       "   loudness  mode  speechiness  acousticness  instrumentalness  liveness  \\\n",
       "0    -7.105   0.0       0.1210       0.03110          0.006970    0.0471   \n",
       "1    -3.914   0.0       0.1140       0.02490          0.025000    0.2420   \n",
       "2    -6.583   0.0       0.2100       0.00238          0.000000    0.0598   \n",
       "3    -6.055   0.0       0.1400       0.20200          0.000234    0.0521   \n",
       "4    -4.596   1.0       0.0713       0.05610          0.000000    0.3130   \n",
       "\n",
       "   valence    tempo  \n",
       "0    0.810  125.461  \n",
       "1    0.924  143.040  \n",
       "2    0.701   99.259  \n",
       "3    0.818  100.972  \n",
       "4    0.654   94.759  "
      ]
     },
     "execution_count": 3,
     "metadata": {},
     "output_type": "execute_result"
    }
   ],
   "source": [
    "df.head()"
   ]
  },
  {
   "cell_type": "markdown",
   "metadata": {},
   "source": [
    "To use collaborative filtering, we discard all features, only leaving three columns: user, song, and ratings. Collaborative filtering is based on the idea that the features will be incorporated in each user's individual choice. For ratings, because we don't have specific numbers, we choose 1 for 'included in playlist' and leave the field blank otherwise."
   ]
  },
  {
   "cell_type": "code",
   "execution_count": 4,
   "metadata": {},
   "outputs": [],
   "source": [
    "df_new = pd.DataFrame(columns = ['user', 'song', 'ratings'])"
   ]
  },
  {
   "cell_type": "code",
   "execution_count": 5,
   "metadata": {},
   "outputs": [],
   "source": [
    "users = df['pid']\n",
    "tracks = df['track_uri'].unique()\n",
    "songs_dict = {tracks[i]: i for i in range(len(tracks))}\n",
    "songs = [songs_dict[s] for s in df['track_uri']]\n",
    "ratings = np.ones(len(users))"
   ]
  },
  {
   "cell_type": "code",
   "execution_count": 6,
   "metadata": {},
   "outputs": [],
   "source": [
    "df_new.user = users\n",
    "df_new.song = songs\n",
    "df_new.ratings = ratings"
   ]
  },
  {
   "cell_type": "code",
   "execution_count": 7,
   "metadata": {},
   "outputs": [
    {
     "data": {
      "text/html": [
       "<div>\n",
       "<style scoped>\n",
       "    .dataframe tbody tr th:only-of-type {\n",
       "        vertical-align: middle;\n",
       "    }\n",
       "\n",
       "    .dataframe tbody tr th {\n",
       "        vertical-align: top;\n",
       "    }\n",
       "\n",
       "    .dataframe thead th {\n",
       "        text-align: right;\n",
       "    }\n",
       "</style>\n",
       "<table border=\"1\" class=\"dataframe\">\n",
       "  <thead>\n",
       "    <tr style=\"text-align: right;\">\n",
       "      <th></th>\n",
       "      <th>user</th>\n",
       "      <th>song</th>\n",
       "      <th>ratings</th>\n",
       "    </tr>\n",
       "  </thead>\n",
       "  <tbody>\n",
       "    <tr>\n",
       "      <td>0</td>\n",
       "      <td>0</td>\n",
       "      <td>0</td>\n",
       "      <td>1.0</td>\n",
       "    </tr>\n",
       "    <tr>\n",
       "      <td>1</td>\n",
       "      <td>0</td>\n",
       "      <td>1</td>\n",
       "      <td>1.0</td>\n",
       "    </tr>\n",
       "    <tr>\n",
       "      <td>2</td>\n",
       "      <td>0</td>\n",
       "      <td>2</td>\n",
       "      <td>1.0</td>\n",
       "    </tr>\n",
       "    <tr>\n",
       "      <td>3</td>\n",
       "      <td>0</td>\n",
       "      <td>3</td>\n",
       "      <td>1.0</td>\n",
       "    </tr>\n",
       "    <tr>\n",
       "      <td>4</td>\n",
       "      <td>0</td>\n",
       "      <td>4</td>\n",
       "      <td>1.0</td>\n",
       "    </tr>\n",
       "  </tbody>\n",
       "</table>\n",
       "</div>"
      ],
      "text/plain": [
       "   user  song  ratings\n",
       "0     0     0      1.0\n",
       "1     0     1      1.0\n",
       "2     0     2      1.0\n",
       "3     0     3      1.0\n",
       "4     0     4      1.0"
      ]
     },
     "execution_count": 7,
     "metadata": {},
     "output_type": "execute_result"
    }
   ],
   "source": [
    "df_new.head()"
   ]
  },
  {
   "cell_type": "markdown",
   "metadata": {},
   "source": [
    "Next, we split each playlist into train (the first 80%) and test (the last 20%). The below functions will establish a training dataset from the original one."
   ]
  },
  {
   "cell_type": "code",
   "execution_count": 8,
   "metadata": {},
   "outputs": [],
   "source": [
    "def train_test_split(df, size=0.2):\n",
    "    train = []\n",
    "    test = []\n",
    "    for i in range(len(df.user.unique())):\n",
    "        indices = np.array(df[df['user']==i].index)\n",
    "        train_indices = range(indices[0], indices[len(indices)//10*8])\n",
    "        train += train_indices\n",
    "    return df.iloc[train]"
   ]
  },
  {
   "cell_type": "code",
   "execution_count": 9,
   "metadata": {},
   "outputs": [],
   "source": [
    "train = train_test_split(df_new)"
   ]
  },
  {
   "cell_type": "code",
   "execution_count": 10,
   "metadata": {},
   "outputs": [
    {
     "data": {
      "text/html": [
       "<div>\n",
       "<style scoped>\n",
       "    .dataframe tbody tr th:only-of-type {\n",
       "        vertical-align: middle;\n",
       "    }\n",
       "\n",
       "    .dataframe tbody tr th {\n",
       "        vertical-align: top;\n",
       "    }\n",
       "\n",
       "    .dataframe thead th {\n",
       "        text-align: right;\n",
       "    }\n",
       "</style>\n",
       "<table border=\"1\" class=\"dataframe\">\n",
       "  <thead>\n",
       "    <tr style=\"text-align: right;\">\n",
       "      <th></th>\n",
       "      <th>user</th>\n",
       "      <th>song</th>\n",
       "      <th>ratings</th>\n",
       "    </tr>\n",
       "  </thead>\n",
       "  <tbody>\n",
       "    <tr>\n",
       "      <td>0</td>\n",
       "      <td>0</td>\n",
       "      <td>0</td>\n",
       "      <td>1.0</td>\n",
       "    </tr>\n",
       "    <tr>\n",
       "      <td>1</td>\n",
       "      <td>0</td>\n",
       "      <td>1</td>\n",
       "      <td>1.0</td>\n",
       "    </tr>\n",
       "    <tr>\n",
       "      <td>2</td>\n",
       "      <td>0</td>\n",
       "      <td>2</td>\n",
       "      <td>1.0</td>\n",
       "    </tr>\n",
       "    <tr>\n",
       "      <td>3</td>\n",
       "      <td>0</td>\n",
       "      <td>3</td>\n",
       "      <td>1.0</td>\n",
       "    </tr>\n",
       "    <tr>\n",
       "      <td>4</td>\n",
       "      <td>0</td>\n",
       "      <td>4</td>\n",
       "      <td>1.0</td>\n",
       "    </tr>\n",
       "  </tbody>\n",
       "</table>\n",
       "</div>"
      ],
      "text/plain": [
       "   user  song  ratings\n",
       "0     0     0      1.0\n",
       "1     0     1      1.0\n",
       "2     0     2      1.0\n",
       "3     0     3      1.0\n",
       "4     0     4      1.0"
      ]
     },
     "execution_count": 10,
     "metadata": {},
     "output_type": "execute_result"
    }
   ],
   "source": [
    "train.head()"
   ]
  },
  {
   "cell_type": "markdown",
   "metadata": {},
   "source": [
    "In order to use collaborative filtering, we use a csr matrix, which is a sparse matrix. The matrix will have every song as a row, every user as a column, and every rating as a number in the matrix. When the song is included in this user's playlist, the field is filled with a 1. Otherwise, it is left blank because we don't have information on this user's preference to this specific song. Therefore, the resulting matrix will be very large and sparse."
   ]
  },
  {
   "cell_type": "code",
   "execution_count": 11,
   "metadata": {},
   "outputs": [],
   "source": [
    "col = train.user\n",
    "row = train.song\n",
    "data = train.ratings"
   ]
  },
  {
   "cell_type": "code",
   "execution_count": 12,
   "metadata": {},
   "outputs": [
    {
     "data": {
      "text/plain": [
       "<344488x31000 sparse matrix of type '<class 'numpy.float64'>'\n",
       "\twith 1533880 stored elements in Compressed Sparse Row format>"
      ]
     },
     "execution_count": 12,
     "metadata": {},
     "output_type": "execute_result"
    }
   ],
   "source": [
    "mtx = csr_matrix((data, (row, col)))\n",
    "mtx"
   ]
  },
  {
   "cell_type": "markdown",
   "metadata": {},
   "source": [
    "Now, a model is trained using the Alternating Least Squares approach in collaborative filtering."
   ]
  },
  {
   "cell_type": "code",
   "execution_count": 13,
   "metadata": {},
   "outputs": [
    {
     "name": "stderr",
     "output_type": "stream",
     "text": [
      "WARNING:root:OpenBLAS detected. Its highly recommend to set the environment variable 'export OPENBLAS_NUM_THREADS=1' to disable its internal multithreading\n"
     ]
    },
    {
     "data": {
      "application/vnd.jupyter.widget-view+json": {
       "model_id": "c379b46a7a1d4b06b61e789847a91b5a",
       "version_major": 2,
       "version_minor": 0
      },
      "text/plain": [
       "HBox(children=(IntProgress(value=0, max=15), HTML(value='')))"
      ]
     },
     "metadata": {},
     "output_type": "display_data"
    },
    {
     "name": "stdout",
     "output_type": "stream",
     "text": [
      "\n"
     ]
    }
   ],
   "source": [
    "# initialize a model\n",
    "model = implicit.als.AlternatingLeastSquares()\n",
    "\n",
    "# train the model on a sparse matrix of item/user/confidence weights\n",
    "model.fit(mtx)\n",
    "# find related items\n",
    "# related = model.similar_items(itemid)"
   ]
  },
  {
   "cell_type": "markdown",
   "metadata": {},
   "source": [
    "To evaluate the model's performance, we use the same metric, which is r-precision"
   ]
  },
  {
   "cell_type": "code",
   "execution_count": 14,
   "metadata": {},
   "outputs": [],
   "source": [
    "def eval_playlist(test_tracks, recommended_tracks): #r-precision\n",
    "    test = set(test_tracks)\n",
    "    pred = set(recommended_tracks)\n",
    "    res = list(test & pred)\n",
    "    return len(res) / len(test)"
   ]
  },
  {
   "cell_type": "markdown",
   "metadata": {},
   "source": [
    "Now, we run through the first 1000 users to generate recommendations of length n (n being the size of the training dataset) and evaluate the model."
   ]
  },
  {
   "cell_type": "code",
   "execution_count": 15,
   "metadata": {},
   "outputs": [],
   "source": [
    "scores = []\n",
    "for user in range(1000):\n",
    "    # recommend items for a user\n",
    "    #user_items = mtx.T.tocsr()\n",
    "    try:\n",
    "        recommendations = [i[0] for i in model.recommend(user, mtx[:,user], N = mtx[:,user].getnnz())]\n",
    "\n",
    "        indices = np.array(df_new[df_new['user']==user].index)\n",
    "        test_indices = range(indices[len(indices)//10*8],indices[-1]+1)\n",
    "        test_tracks = df_new.iloc[test_indices].song\n",
    "\n",
    "        scores.append(eval_playlist(test_tracks, recommendations))\n",
    "    except:\n",
    "        pass"
   ]
  },
  {
   "cell_type": "code",
   "execution_count": 16,
   "metadata": {},
   "outputs": [
    {
     "name": "stdout",
     "output_type": "stream",
     "text": [
      "In the end, the ALS collaborative filtering model achieved a mean score of:  0.07801972197062193\n"
     ]
    }
   ],
   "source": [
    "print(\"In the end, the ALS collaborative filtering model achieved a mean score of: \", np.mean(scores))"
   ]
  },
  {
   "cell_type": "code",
   "execution_count": 17,
   "metadata": {},
   "outputs": [
    {
     "data": {
      "image/png": "[encoded data removed]",
      "text/plain": [
       "<Figure size 720x360 with 1 Axes>"
      ]
     },
     "metadata": {
      "needs_background": "light"
     },
     "output_type": "display_data"
    }
   ],
   "source": [
    "plt.subplots(figsize = (10,5))\n",
    "plt.hist(scores,bins=100)\n",
    "plt.title('Score distribution for Collaborative Filtering')\n",
    "plt.xlabel('score')\n",
    "plt.ylabel('frequency')\n",
    "plt.show()"
   ]
  },
  {
   "cell_type": "markdown",
   "metadata": {},
   "source": [
    "From the histogram, we could see that most playlist (about half) has a score of 0, which is expected because of the size of playlists and validation sets. Then, a majority of playlist achieved a score around 10%. And the best performing playlists could achieve scores of 80% or more. This is a very good model and a great improvement from the baseline model."
   ]
  },
  {
   "cell_type": "code",
   "execution_count": null,
   "metadata": {},
   "outputs": [],
   "source": []
  }
 ],
 "metadata": {
  "kernelspec": {
   "display_name": "Python 3",
   "language": "python",
   "name": "python3"
  },
  "language_info": {
   "codemirror_mode": {
    "name": "ipython",
    "version": 3
   },
   "file_extension": ".py",
   "mimetype": "text/x-python",
   "name": "python",
   "nbconvert_exporter": "python",
   "pygments_lexer": "ipython3",
   "version": "3.6.9"
  }
 },
 "nbformat": 4,
 "nbformat_minor": 2
}
