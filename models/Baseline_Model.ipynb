{
 "cells": [
  {
   "cell_type": "code",
   "execution_count": 1,
   "metadata": {},
   "outputs": [],
   "source": [
    "import numpy as np\n",
    "import pandas as pd\n",
    "import spotipy\n",
    "import spotipy.util as util\n",
    "import matplotlib.pyplot as plt"
   ]
  },
  {
   "cell_type": "code",
   "execution_count": 2,
   "metadata": {},
   "outputs": [],
   "source": [
    "artist_dic = pd.read_csv('./output/artist_dic.csv')"
   ]
  },
  {
   "cell_type": "code",
   "execution_count": 3,
   "metadata": {},
   "outputs": [
    {
     "data": {
      "text/html": [
       "<div>\n",
       "<style scoped>\n",
       "    .dataframe tbody tr th:only-of-type {\n",
       "        vertical-align: middle;\n",
       "    }\n",
       "\n",
       "    .dataframe tbody tr th {\n",
       "        vertical-align: top;\n",
       "    }\n",
       "\n",
       "    .dataframe thead th {\n",
       "        text-align: right;\n",
       "    }\n",
       "</style>\n",
       "<table border=\"1\" class=\"dataframe\">\n",
       "  <thead>\n",
       "    <tr style=\"text-align: right;\">\n",
       "      <th></th>\n",
       "      <th>Unnamed: 0</th>\n",
       "      <th>artist_name</th>\n",
       "      <th>artist_uri</th>\n",
       "      <th>track_name</th>\n",
       "      <th>track_uri</th>\n",
       "      <th>artist_name_ct</th>\n",
       "    </tr>\n",
       "  </thead>\n",
       "  <tbody>\n",
       "    <tr>\n",
       "      <th>0</th>\n",
       "      <td>0</td>\n",
       "      <td>ｍｉｙａｖｉ</td>\n",
       "      <td>spotify:artist:6eZ1mKC6Lv6ayxyo3VFl9b</td>\n",
       "      <td>s.m.f.b.</td>\n",
       "      <td>spotify:track:6WrACnAw7MJssvcGuflxEY</td>\n",
       "      <td>1</td>\n",
       "    </tr>\n",
       "    <tr>\n",
       "      <th>1</th>\n",
       "      <td>1</td>\n",
       "      <td>２８１４</td>\n",
       "      <td>spotify:artist:2wBpW4bAGYVe0yJcBeCTyd</td>\n",
       "      <td>恢复</td>\n",
       "      <td>spotify:track:2dFUtZtpWydAU4QMmUOK47</td>\n",
       "      <td>43</td>\n",
       "    </tr>\n",
       "    <tr>\n",
       "      <th>2</th>\n",
       "      <td>2</td>\n",
       "      <td>２８１４</td>\n",
       "      <td>spotify:artist:2wBpW4bAGYVe0yJcBeCTyd</td>\n",
       "      <td>ふわっと</td>\n",
       "      <td>spotify:track:6cNzmBNjtrrCTbRJ4NITk3</td>\n",
       "      <td>15</td>\n",
       "    </tr>\n",
       "    <tr>\n",
       "      <th>3</th>\n",
       "      <td>3</td>\n",
       "      <td>２８１４</td>\n",
       "      <td>spotify:artist:2wBpW4bAGYVe0yJcBeCTyd</td>\n",
       "      <td>真実の恋</td>\n",
       "      <td>spotify:track:2WQp0WTZFKQCM7Wvy3msGL</td>\n",
       "      <td>15</td>\n",
       "    </tr>\n",
       "    <tr>\n",
       "      <th>4</th>\n",
       "      <td>4</td>\n",
       "      <td>２８１４</td>\n",
       "      <td>spotify:artist:2wBpW4bAGYVe0yJcBeCTyd</td>\n",
       "      <td>遠くの愛好家</td>\n",
       "      <td>spotify:track:3tRNZWwNVqJc4Swf48Qu9Z</td>\n",
       "      <td>12</td>\n",
       "    </tr>\n",
       "  </tbody>\n",
       "</table>\n",
       "</div>"
      ],
      "text/plain": [
       "   Unnamed: 0 artist_name                             artist_uri track_name  \\\n",
       "0           0      ｍｉｙａｖｉ  spotify:artist:6eZ1mKC6Lv6ayxyo3VFl9b   s.m.f.b.   \n",
       "1           1        ２８１４  spotify:artist:2wBpW4bAGYVe0yJcBeCTyd         恢复   \n",
       "2           2        ２８１４  spotify:artist:2wBpW4bAGYVe0yJcBeCTyd       ふわっと   \n",
       "3           3        ２８１４  spotify:artist:2wBpW4bAGYVe0yJcBeCTyd       真実の恋   \n",
       "4           4        ２８１４  spotify:artist:2wBpW4bAGYVe0yJcBeCTyd     遠くの愛好家   \n",
       "\n",
       "                              track_uri  artist_name_ct  \n",
       "0  spotify:track:6WrACnAw7MJssvcGuflxEY               1  \n",
       "1  spotify:track:2dFUtZtpWydAU4QMmUOK47              43  \n",
       "2  spotify:track:6cNzmBNjtrrCTbRJ4NITk3              15  \n",
       "3  spotify:track:2WQp0WTZFKQCM7Wvy3msGL              15  \n",
       "4  spotify:track:3tRNZWwNVqJc4Swf48Qu9Z              12  "
      ]
     },
     "execution_count": 3,
     "metadata": {},
     "output_type": "execute_result"
    }
   ],
   "source": [
    "artist_dic.head()"
   ]
  },
  {
   "cell_type": "code",
   "execution_count": 4,
   "metadata": {},
   "outputs": [],
   "source": [
    "df = pd.read_csv('data/songs0.csv')"
   ]
  },
  {
   "cell_type": "code",
   "execution_count": 5,
   "metadata": {},
   "outputs": [
    {
     "data": {
      "text/html": [
       "<div>\n",
       "<style scoped>\n",
       "    .dataframe tbody tr th:only-of-type {\n",
       "        vertical-align: middle;\n",
       "    }\n",
       "\n",
       "    .dataframe tbody tr th {\n",
       "        vertical-align: top;\n",
       "    }\n",
       "\n",
       "    .dataframe thead th {\n",
       "        text-align: right;\n",
       "    }\n",
       "</style>\n",
       "<table border=\"1\" class=\"dataframe\">\n",
       "  <thead>\n",
       "    <tr style=\"text-align: right;\">\n",
       "      <th></th>\n",
       "      <th>pid</th>\n",
       "      <th>pos</th>\n",
       "      <th>artist_name</th>\n",
       "      <th>track_uri</th>\n",
       "      <th>artist_uri</th>\n",
       "      <th>track_name</th>\n",
       "      <th>album_uri</th>\n",
       "      <th>duration_ms</th>\n",
       "      <th>album_name</th>\n",
       "    </tr>\n",
       "  </thead>\n",
       "  <tbody>\n",
       "    <tr>\n",
       "      <th>0</th>\n",
       "      <td>0</td>\n",
       "      <td>0</td>\n",
       "      <td>Missy Elliott</td>\n",
       "      <td>spotify:track:0UaMYEvWZi0ZqiDOoHU3YI</td>\n",
       "      <td>spotify:artist:2wIVse2owClT7go1WT98tk</td>\n",
       "      <td>Lose Control (feat. Ciara &amp; Fat Man Scoop)</td>\n",
       "      <td>spotify:album:6vV5UrXcfyQD1wu4Qo2I9K</td>\n",
       "      <td>226863</td>\n",
       "      <td>The Cookbook</td>\n",
       "    </tr>\n",
       "    <tr>\n",
       "      <th>1</th>\n",
       "      <td>0</td>\n",
       "      <td>1</td>\n",
       "      <td>Britney Spears</td>\n",
       "      <td>spotify:track:6I9VzXrHxO9rA9A5euc8Ak</td>\n",
       "      <td>spotify:artist:26dSoYclwsYLMAKD3tpOr4</td>\n",
       "      <td>Toxic</td>\n",
       "      <td>spotify:album:0z7pVBGOD7HCIB7S8eLkLI</td>\n",
       "      <td>198800</td>\n",
       "      <td>In The Zone</td>\n",
       "    </tr>\n",
       "    <tr>\n",
       "      <th>2</th>\n",
       "      <td>0</td>\n",
       "      <td>2</td>\n",
       "      <td>Beyoncé</td>\n",
       "      <td>spotify:track:0WqIKmW4BTrj3eJFmnCKMv</td>\n",
       "      <td>spotify:artist:6vWDO969PvNqNYHIOW5v0m</td>\n",
       "      <td>Crazy In Love</td>\n",
       "      <td>spotify:album:25hVFAxTlDvXbx2X2QkUkE</td>\n",
       "      <td>235933</td>\n",
       "      <td>Dangerously In Love (Alben für die Ewigkeit)</td>\n",
       "    </tr>\n",
       "    <tr>\n",
       "      <th>3</th>\n",
       "      <td>0</td>\n",
       "      <td>3</td>\n",
       "      <td>Justin Timberlake</td>\n",
       "      <td>spotify:track:1AWQoqb9bSvzTjaLralEkT</td>\n",
       "      <td>spotify:artist:31TPClRtHm23RisEBtV3X7</td>\n",
       "      <td>Rock Your Body</td>\n",
       "      <td>spotify:album:6QPkyl04rXwTGlGlcYaRoW</td>\n",
       "      <td>267266</td>\n",
       "      <td>Justified</td>\n",
       "    </tr>\n",
       "    <tr>\n",
       "      <th>4</th>\n",
       "      <td>0</td>\n",
       "      <td>4</td>\n",
       "      <td>Shaggy</td>\n",
       "      <td>spotify:track:1lzr43nnXAijIGYnCT8M8H</td>\n",
       "      <td>spotify:artist:5EvFsr3kj42KNv97ZEnqij</td>\n",
       "      <td>It Wasn't Me</td>\n",
       "      <td>spotify:album:6NmFmPX56pcLBOFMhIiKvF</td>\n",
       "      <td>227600</td>\n",
       "      <td>Hot Shot</td>\n",
       "    </tr>\n",
       "  </tbody>\n",
       "</table>\n",
       "</div>"
      ],
      "text/plain": [
       "   pid  pos        artist_name                             track_uri  \\\n",
       "0    0    0      Missy Elliott  spotify:track:0UaMYEvWZi0ZqiDOoHU3YI   \n",
       "1    0    1     Britney Spears  spotify:track:6I9VzXrHxO9rA9A5euc8Ak   \n",
       "2    0    2            Beyoncé  spotify:track:0WqIKmW4BTrj3eJFmnCKMv   \n",
       "3    0    3  Justin Timberlake  spotify:track:1AWQoqb9bSvzTjaLralEkT   \n",
       "4    0    4             Shaggy  spotify:track:1lzr43nnXAijIGYnCT8M8H   \n",
       "\n",
       "                              artist_uri  \\\n",
       "0  spotify:artist:2wIVse2owClT7go1WT98tk   \n",
       "1  spotify:artist:26dSoYclwsYLMAKD3tpOr4   \n",
       "2  spotify:artist:6vWDO969PvNqNYHIOW5v0m   \n",
       "3  spotify:artist:31TPClRtHm23RisEBtV3X7   \n",
       "4  spotify:artist:5EvFsr3kj42KNv97ZEnqij   \n",
       "\n",
       "                                   track_name  \\\n",
       "0  Lose Control (feat. Ciara & Fat Man Scoop)   \n",
       "1                                       Toxic   \n",
       "2                               Crazy In Love   \n",
       "3                              Rock Your Body   \n",
       "4                                It Wasn't Me   \n",
       "\n",
       "                              album_uri  duration_ms  \\\n",
       "0  spotify:album:6vV5UrXcfyQD1wu4Qo2I9K       226863   \n",
       "1  spotify:album:0z7pVBGOD7HCIB7S8eLkLI       198800   \n",
       "2  spotify:album:25hVFAxTlDvXbx2X2QkUkE       235933   \n",
       "3  spotify:album:6QPkyl04rXwTGlGlcYaRoW       267266   \n",
       "4  spotify:album:6NmFmPX56pcLBOFMhIiKvF       227600   \n",
       "\n",
       "                                     album_name  \n",
       "0                                  The Cookbook  \n",
       "1                                   In The Zone  \n",
       "2  Dangerously In Love (Alben für die Ewigkeit)  \n",
       "3                                     Justified  \n",
       "4                                      Hot Shot  "
      ]
     },
     "execution_count": 5,
     "metadata": {},
     "output_type": "execute_result"
    }
   ],
   "source": [
    "df.head()"
   ]
  },
  {
   "cell_type": "code",
   "execution_count": 6,
   "metadata": {},
   "outputs": [],
   "source": [
    "def recommend_eval(df, artist_dic, top, split_ratio):\n",
    "    res = []\n",
    "    playlist_ct = df['pid'].max()\n",
    "    for i in range(playlist_ct+1):\n",
    "        df_cur = df[df['pid']==i]\n",
    "        n, _ = df_cur.shape\n",
    "        # split playlist into model input and hidden songs for evaluation\n",
    "        ratio = int(split_ratio*n)\n",
    "        train_artist_uri = df_cur['artist_uri'][:ratio].values\n",
    "        train_track_uri = df_cur['track_uri'][:ratio].values\n",
    "        test = df_cur['track_uri'][ratio:].values\n",
    "        recommended_tracks = recommend_playlist(train_artist_uri, train_track_uri, n, top, artist_dic)\n",
    "        r_precision = eval_playlist(test, recommended_tracks)\n",
    "        res.append(r_precision)\n",
    "    return res"
   ]
  },
  {
   "cell_type": "code",
   "execution_count": 7,
   "metadata": {},
   "outputs": [],
   "source": [
    "def recommend_playlist(artist_list, track_list, n, top, artist_dic):\n",
    "    \"\"\"\n",
    "    recommend popular songs of top artists in the given playlist\n",
    "    \"\"\"\n",
    "    uni_artist = np.unique(artist_list)\n",
    "    top_actual = 0\n",
    "    res = []\n",
    "    \n",
    "    if top > len(uni_artist): \n",
    "        top_actual = len(uni_artist)\n",
    "        avg_per_artist = n // len(uni_artist)\n",
    "    else:\n",
    "        top_actual = top\n",
    "        avg_per_artist = n // top\n",
    "    \n",
    "    track_list = set(track_list)\n",
    "    # get songs from top artists in the playlist\n",
    "    for i in range(top_actual):\n",
    "        uri = uni_artist[i]\n",
    "        cur_match = artist_dic[artist_dic['artist_uri']==uri]['track_uri'].values\n",
    "        cur_match = set(cur_match)\n",
    "        cur_match = list(cur_match.difference(track_list))\n",
    "        \n",
    "        if len(cur_match) > avg_per_artist:\n",
    "            cur_match = cur_match[:avg_per_artist]\n",
    "        res += cur_match\n",
    "    return res"
   ]
  },
  {
   "cell_type": "code",
   "execution_count": 8,
   "metadata": {},
   "outputs": [],
   "source": [
    "def eval_playlist(test_tracks, recommended_tracks):\n",
    "    #r-precision for evaluation\n",
    "    test = set(test_tracks)\n",
    "    pred = set(recommended_tracks)\n",
    "    res = list(test & pred)\n",
    "    return len(res) / len(test)"
   ]
  },
  {
   "cell_type": "code",
   "execution_count": 9,
   "metadata": {},
   "outputs": [
    {
     "data": {
      "text/plain": [
       "array([0.        , 0.        , 0.07692308, 0.        , 0.        ,\n",
       "       0.        , 0.        , 0.        , 0.1       , 0.        ,\n",
       "       0.        , 0.        , 0.        , 0.        , 0.        ,\n",
       "       0.        , 0.        , 0.        , 0.        , 0.        ,\n",
       "       0.        , 0.        , 0.        , 0.        , 0.        ,\n",
       "       0.        , 0.16666667, 0.        , 0.        , 0.        ,\n",
       "       0.28125   , 0.        , 0.        , 0.        , 0.        ,\n",
       "       0.        , 0.        , 0.        , 0.        , 0.        ,\n",
       "       0.        , 0.        , 0.        , 0.        , 0.        ,\n",
       "       0.        , 0.        , 0.        , 0.14285714, 0.        ,\n",
       "       0.        , 0.        , 0.        , 0.        , 0.        ,\n",
       "       0.03225806, 0.        , 0.        , 0.125     , 0.        ,\n",
       "       0.        , 0.        , 0.        , 0.        , 0.        ,\n",
       "       0.07407407, 0.05882353, 0.        , 0.02857143, 0.25      ,\n",
       "       0.        , 0.        , 0.02564103, 0.        , 0.        ,\n",
       "       0.        , 0.        , 0.        , 0.        , 0.        ,\n",
       "       0.        , 0.        , 0.        , 0.        , 0.        ,\n",
       "       0.        , 0.        , 0.        , 0.28571429, 0.        ,\n",
       "       0.        , 0.        , 0.        , 0.        , 0.        ,\n",
       "       0.        , 0.        , 0.0212766 , 0.17647059, 0.        ,\n",
       "       0.        , 0.        , 0.2       , 0.02777778, 0.        ,\n",
       "       0.        , 0.        , 0.        , 0.        , 0.        ,\n",
       "       0.        , 0.2       , 0.        , 0.        , 0.        ,\n",
       "       0.        , 0.        , 0.        , 0.        , 0.        ,\n",
       "       0.        , 0.        , 0.        , 0.02083333, 0.        ,\n",
       "       0.        , 0.        , 0.        , 0.        , 0.        ,\n",
       "       0.        , 0.        , 0.        , 0.        , 0.        ,\n",
       "       0.        , 0.        , 0.        , 0.        , 0.        ,\n",
       "       0.        , 0.        , 0.        , 0.        , 0.        ,\n",
       "       0.        , 0.025     , 0.        , 0.06896552, 0.        ,\n",
       "       0.        , 0.        , 0.        , 0.        , 0.        ,\n",
       "       0.        , 0.02631579, 0.        , 0.04761905, 0.        ,\n",
       "       0.        , 0.03030303, 0.        , 0.        , 0.        ,\n",
       "       0.        , 0.        , 0.        , 0.        , 0.        ,\n",
       "       0.        , 0.        , 0.        , 0.        , 0.        ,\n",
       "       0.        , 0.03571429, 0.        , 0.07142857, 0.        ,\n",
       "       0.        , 0.        , 0.02941176, 0.        , 0.        ,\n",
       "       0.        , 0.        , 0.        , 0.        , 0.        ,\n",
       "       0.07142857, 0.        , 0.        , 0.        , 0.        ,\n",
       "       0.        , 0.        , 0.        , 0.        , 0.        ,\n",
       "       0.        , 0.        , 0.        , 0.        , 0.        ,\n",
       "       0.        , 0.        , 0.        , 0.05555556, 0.        ,\n",
       "       0.        , 0.        , 0.06666667, 0.        , 0.0625    ,\n",
       "       0.        , 0.        , 0.        , 0.        , 0.        ,\n",
       "       0.07142857, 0.        , 0.        , 0.        , 0.        ,\n",
       "       0.125     , 0.08695652, 0.        , 0.        , 0.        ,\n",
       "       0.        , 0.        , 0.        , 0.        , 0.        ,\n",
       "       0.        , 0.        , 0.        , 0.        , 0.        ,\n",
       "       0.        , 0.37037037, 0.        , 0.        , 0.        ,\n",
       "       0.        , 0.        , 0.        , 0.        , 0.        ,\n",
       "       0.        , 0.        , 0.        , 0.        , 0.        ,\n",
       "       0.        , 0.        , 0.        , 0.        , 0.05555556,\n",
       "       0.09090909, 0.        , 0.        , 0.        , 0.        ,\n",
       "       0.04166667, 0.        , 0.        , 0.        , 0.        ,\n",
       "       0.        , 0.        , 0.        , 0.        , 0.        ,\n",
       "       0.        , 0.        , 0.        , 0.        , 0.        ,\n",
       "       0.09090909, 0.1       , 0.        , 0.        , 0.        ,\n",
       "       0.        , 0.        , 0.        , 0.        , 0.        ,\n",
       "       0.        , 0.07142857, 0.        , 0.08333333, 0.        ,\n",
       "       0.1       , 0.        , 0.        , 0.        , 0.        ,\n",
       "       0.        , 0.        , 0.04761905, 0.33333333, 0.        ,\n",
       "       0.        , 0.16666667, 0.        , 0.        , 0.        ,\n",
       "       0.        , 0.        , 0.        , 0.        , 0.        ,\n",
       "       0.        , 0.        , 0.        , 0.        , 0.        ,\n",
       "       0.        , 0.28571429, 0.        , 0.        , 0.        ,\n",
       "       0.14285714, 0.        , 0.        , 0.        , 0.        ,\n",
       "       0.        , 0.        , 0.        , 0.        , 0.        ,\n",
       "       0.        , 0.        , 0.        , 0.04166667, 0.        ,\n",
       "       0.        , 0.02380952, 0.        , 0.        , 0.        ,\n",
       "       0.75      , 0.        , 0.66666667, 0.        , 0.        ,\n",
       "       0.05882353, 0.        , 0.        , 0.        , 0.        ,\n",
       "       0.07142857, 0.        , 0.        , 0.        , 0.        ,\n",
       "       0.        , 0.0625    , 0.02083333, 0.        , 0.        ,\n",
       "       0.        , 0.        , 0.        , 0.        , 0.        ,\n",
       "       0.        , 0.        , 0.        , 0.        , 0.        ,\n",
       "       0.11764706, 0.        , 0.2       , 0.        , 0.        ,\n",
       "       0.        , 0.        , 0.        , 0.        , 0.        ,\n",
       "       0.        , 0.        , 0.        , 0.        , 0.        ,\n",
       "       0.        , 0.        , 0.        , 0.        , 0.        ,\n",
       "       0.        , 0.        , 0.        , 0.        , 0.        ,\n",
       "       0.        , 0.02941176, 0.        , 0.        , 0.        ,\n",
       "       0.02325581, 0.02173913, 0.        , 0.        , 0.        ,\n",
       "       0.        , 0.        , 0.02631579, 0.        , 0.        ,\n",
       "       0.        , 0.11111111, 0.        , 0.        , 0.        ,\n",
       "       0.22727273, 0.        , 0.        , 0.25      , 0.04      ,\n",
       "       0.        , 0.        , 0.        , 0.        , 0.        ,\n",
       "       0.33333333, 0.        , 0.        , 0.        , 0.        ,\n",
       "       0.        , 0.        , 0.025     , 0.        , 0.        ,\n",
       "       0.        , 0.        , 0.        , 0.        , 0.        ,\n",
       "       0.        , 0.        , 0.09090909, 0.        , 0.        ,\n",
       "       0.        , 0.        , 0.        , 0.        , 0.25806452,\n",
       "       0.        , 0.04166667, 0.        , 0.        , 0.        ,\n",
       "       0.10526316, 0.        , 0.        , 0.        , 0.        ,\n",
       "       0.03571429, 0.        , 0.        , 0.        , 0.23076923,\n",
       "       0.        , 0.        , 0.        , 0.        , 0.25      ,\n",
       "       0.        , 0.        , 0.        , 0.        , 0.        ,\n",
       "       0.        , 0.        , 0.        , 0.        , 0.        ,\n",
       "       0.        , 0.        , 0.        , 0.        , 0.        ,\n",
       "       0.        , 0.        , 0.        , 0.        , 0.        ,\n",
       "       0.        , 0.        , 0.        , 0.06666667, 0.        ,\n",
       "       0.        , 0.        , 0.        , 0.2       , 0.        ,\n",
       "       0.        , 0.06666667, 0.        , 0.        , 0.        ,\n",
       "       0.        , 0.        , 0.        , 0.        , 0.        ,\n",
       "       0.        , 0.        , 0.        , 0.        , 0.        ,\n",
       "       0.        , 0.07692308, 0.        , 0.        , 0.        ,\n",
       "       0.        , 0.        , 0.        , 0.03571429, 0.        ,\n",
       "       0.        , 0.        , 0.        , 0.42857143, 0.        ,\n",
       "       0.33333333, 0.        , 0.        , 0.        , 0.        ,\n",
       "       0.        , 0.        , 0.        , 0.        , 0.        ,\n",
       "       0.        , 0.        , 0.        , 0.        , 0.        ,\n",
       "       0.        , 0.        , 0.        , 0.        , 0.1       ,\n",
       "       0.        , 0.        , 0.        , 0.        , 0.04166667,\n",
       "       0.        , 0.        , 0.05      , 0.        , 0.        ,\n",
       "       0.03571429, 0.        , 0.        , 0.        , 0.        ,\n",
       "       0.        , 0.        , 0.        , 0.05882353, 0.        ,\n",
       "       0.        , 0.        , 0.        , 0.2       , 0.        ,\n",
       "       0.        , 0.11764706, 0.        , 0.08333333, 0.02564103,\n",
       "       0.05128205, 0.        , 0.        , 0.        , 0.        ,\n",
       "       0.        , 0.        , 0.        , 0.        , 0.        ,\n",
       "       0.        , 0.        , 0.        , 0.        , 0.        ,\n",
       "       0.        , 0.        , 0.        , 0.        , 0.        ,\n",
       "       0.1       , 0.        , 0.        , 0.        , 0.        ,\n",
       "       0.        , 0.        , 0.        , 0.        , 0.        ,\n",
       "       0.11111111, 0.03571429, 0.        , 0.        , 0.        ,\n",
       "       0.        , 0.        , 0.        , 0.        , 0.66666667,\n",
       "       0.        , 0.08333333, 0.        , 0.        , 0.        ,\n",
       "       0.        , 0.        , 0.        , 0.02564103, 0.        ,\n",
       "       0.        , 0.        , 0.02439024, 0.        , 0.        ,\n",
       "       0.        , 0.        , 0.        , 0.        , 0.        ,\n",
       "       0.        , 0.        , 0.        , 0.        , 0.04545455,\n",
       "       0.        , 0.        , 0.        , 0.        , 0.        ,\n",
       "       0.        , 0.        , 0.04      , 0.        , 0.        ,\n",
       "       0.11111111, 0.08333333, 0.        , 0.        , 0.        ,\n",
       "       0.        , 0.        , 0.        , 0.        , 0.        ,\n",
       "       0.        , 0.38461538, 0.        , 0.0625    , 0.        ,\n",
       "       0.        , 0.        , 0.        , 0.        , 0.        ,\n",
       "       0.04651163, 0.        , 0.        , 0.        , 0.125     ,\n",
       "       0.        , 0.22222222, 0.        , 0.        , 0.0212766 ,\n",
       "       0.        , 0.        , 0.        , 0.06666667, 0.        ,\n",
       "       0.        , 0.        , 0.        , 0.        , 0.        ,\n",
       "       0.        , 0.        , 0.        , 0.025     , 0.06818182,\n",
       "       0.        , 0.        , 0.        , 0.        , 0.        ,\n",
       "       0.        , 0.        , 0.        , 0.        , 0.09090909,\n",
       "       0.11111111, 0.        , 0.        , 0.        , 0.        ,\n",
       "       0.        , 0.        , 0.        , 0.        , 0.        ,\n",
       "       0.28571429, 0.        , 0.        , 0.        , 0.        ,\n",
       "       0.03703704, 0.        , 0.        , 0.05263158, 0.        ,\n",
       "       0.        , 0.        , 0.        , 0.        , 0.        ,\n",
       "       0.05128205, 0.        , 0.        , 0.04081633, 0.        ,\n",
       "       0.        , 0.4       , 0.        , 0.        , 1.        ,\n",
       "       0.        , 0.        , 0.        , 0.        , 0.05555556,\n",
       "       0.        , 0.        , 0.        , 0.        , 0.        ,\n",
       "       0.        , 0.125     , 0.11111111, 0.        , 0.        ,\n",
       "       0.05882353, 0.        , 0.        , 0.        , 0.03125   ,\n",
       "       0.        , 0.        , 0.        , 0.        , 0.25      ,\n",
       "       0.        , 0.        , 0.        , 0.        , 0.        ,\n",
       "       0.        , 0.16      , 0.        , 0.        , 0.        ,\n",
       "       0.        , 0.        , 0.        , 0.        , 0.        ,\n",
       "       0.        , 0.        , 0.        , 0.        , 0.        ,\n",
       "       0.        , 0.        , 0.        , 0.        , 0.        ,\n",
       "       0.        , 0.        , 0.05263158, 0.02439024, 0.        ,\n",
       "       0.        , 0.        , 0.        , 0.        , 0.        ,\n",
       "       0.        , 0.        , 0.        , 0.        , 0.        ,\n",
       "       0.        , 0.        , 0.        , 0.        , 0.        ,\n",
       "       0.        , 0.        , 0.        , 0.        , 0.        ,\n",
       "       0.        , 0.        , 0.        , 0.        , 0.        ,\n",
       "       0.        , 0.        , 0.        , 0.        , 0.        ,\n",
       "       0.02439024, 0.        , 0.        , 0.04      , 0.        ,\n",
       "       0.        , 0.08695652, 0.14285714, 0.        , 0.        ,\n",
       "       0.        , 0.        , 0.        , 0.05      , 0.        ,\n",
       "       0.        , 0.        , 0.        , 0.41666667, 0.        ,\n",
       "       0.06666667, 0.        , 0.        , 0.        , 0.        ,\n",
       "       0.1       , 0.        , 0.        , 0.        , 0.        ,\n",
       "       0.        , 0.        , 0.09090909, 0.        , 0.        ,\n",
       "       0.        , 0.        , 0.        , 0.        , 0.        ,\n",
       "       0.11111111, 0.        , 0.05882353, 0.        , 0.02083333,\n",
       "       0.        , 0.        , 0.        , 0.        , 0.        ,\n",
       "       0.        , 0.08888889, 0.        , 0.        , 1.        ,\n",
       "       0.        , 0.        , 0.        , 0.        , 0.        ,\n",
       "       0.03571429, 0.        , 0.5       , 0.        , 0.        ,\n",
       "       0.        , 0.        , 0.        , 0.        , 0.        ,\n",
       "       0.        , 0.        , 0.04347826, 0.        , 0.66666667,\n",
       "       0.        , 0.        , 0.        , 0.03703704, 0.        ,\n",
       "       0.        , 0.        , 0.        , 0.06060606, 0.        ,\n",
       "       0.        , 0.        , 0.        , 0.        , 0.        ,\n",
       "       0.        , 0.        , 0.        , 0.        , 0.        ,\n",
       "       0.        , 0.        , 0.        , 0.        , 0.        ,\n",
       "       0.        , 0.        , 0.        , 0.        , 0.        ,\n",
       "       0.        , 0.        , 0.        , 0.10526316, 0.        ,\n",
       "       0.16666667, 0.20833333, 0.        , 0.07692308, 0.        ,\n",
       "       0.        , 0.        , 0.        , 0.        , 0.        ,\n",
       "       0.        , 0.        , 0.125     , 0.        , 0.        ,\n",
       "       0.        , 0.        , 0.06666667, 0.        , 0.        ,\n",
       "       0.05      , 0.        , 0.        , 0.        , 0.        ,\n",
       "       0.        , 0.        , 0.        , 0.        , 0.03571429,\n",
       "       0.        , 0.        , 0.        , 0.11538462, 0.02222222,\n",
       "       0.02325581, 0.        , 0.        , 0.55      , 0.02439024,\n",
       "       0.        , 0.        , 0.        , 0.        , 0.        ,\n",
       "       0.        , 0.        , 0.        , 0.        , 0.        ,\n",
       "       0.        , 0.        , 0.04347826, 0.04545455, 0.        ])"
      ]
     },
     "execution_count": 9,
     "metadata": {},
     "output_type": "execute_result"
    }
   ],
   "source": [
    "rr = recommend_eval(df, artist_dic, 10, 0.8)\n",
    "np.array(rr)"
   ]
  },
  {
   "cell_type": "code",
   "execution_count": 10,
   "metadata": {},
   "outputs": [],
   "source": [
    "re = np.take(rr, np.nonzero(rr)[0])"
   ]
  },
  {
   "cell_type": "code",
   "execution_count": 11,
   "metadata": {},
   "outputs": [
    {
     "data": {
      "text/plain": [
       "165"
      ]
     },
     "execution_count": 11,
     "metadata": {},
     "output_type": "execute_result"
    }
   ],
   "source": [
    "len(re)"
   ]
  },
  {
   "cell_type": "code",
   "execution_count": 12,
   "metadata": {},
   "outputs": [
    {
     "data": {
      "text/plain": [
       "0.021821331882821322"
      ]
     },
     "execution_count": 12,
     "metadata": {},
     "output_type": "execute_result"
    }
   ],
   "source": [
    "np.mean(rr)"
   ]
  },
  {
   "cell_type": "code",
   "execution_count": 13,
   "metadata": {},
   "outputs": [
    {
     "data": {
      "text/plain": [
       "0.13225049625952315"
      ]
     },
     "execution_count": 13,
     "metadata": {},
     "output_type": "execute_result"
    }
   ],
   "source": [
    "np.mean(re)"
   ]
  },
  {
   "cell_type": "code",
   "execution_count": 14,
   "metadata": {},
   "outputs": [
    {
     "data": {
      "image/png": "[encoded data removed]",
      "text/plain": [
       "<Figure size 720x360 with 1 Axes>"
      ]
     },
     "metadata": {
      "needs_background": "light"
     },
     "output_type": "display_data"
    }
   ],
   "source": [
    "plt.figure(figsize=(10,5))\n",
    "plt.title('distribution of r-precison using Baseline Model')\n",
    "plt.xlabel('r-precison')\n",
    "plt.ylabel('count')\n",
    "plt.hist(rr, bins=80)\n",
    "plt.show()"
   ]
  },
  {
   "cell_type": "code",
   "execution_count": 188,
   "metadata": {},
   "outputs": [
    {
     "data": {
      "image/png": "[encoded data removed]",
      "text/plain": [
       "<Figure size 576x432 with 1 Axes>"
      ]
     },
     "metadata": {
      "needs_background": "light"
     },
     "output_type": "display_data"
    }
   ],
   "source": [
    "plt.figure(figsize=(8,6))\n",
    "plt.title('r-precison among 138 out of 1000 playlists with non-zero r-precisions')\n",
    "plt.xlabel('r-precison')\n",
    "plt.ylabel('count')\n",
    "plt.hist(re, bins=30)\n",
    "plt.show()"
   ]
  },
  {
   "cell_type": "code",
   "execution_count": null,
   "metadata": {},
   "outputs": [],
   "source": []
  }
 ],
 "metadata": {
  "kernelspec": {
   "display_name": "Python 3",
   "language": "python",
   "name": "python3"
  },
  "language_info": {
   "codemirror_mode": {
    "name": "ipython",
    "version": 3
   },
   "file_extension": ".py",
   "mimetype": "text/x-python",
   "name": "python",
   "nbconvert_exporter": "python",
   "pygments_lexer": "ipython3",
   "version": "3.6.9"
  }
 },
 "nbformat": 4,
 "nbformat_minor": 2
}
