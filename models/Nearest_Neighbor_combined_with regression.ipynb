{
 "cells": [
  {
   "cell_type": "markdown",
   "metadata": {},
   "source": [
    "# Spotify Recommendation\n",
    "\n",
    "## Nearest Neighbor combined with regression"
   ]
  },
  {
   "cell_type": "code",
   "execution_count": 1,
   "metadata": {},
   "outputs": [],
   "source": [
    "import pandas as pd\n",
    "import numpy as np\n",
    "import matplotlib.pyplot as plt\n",
    "from sklearn.preprocessing import StandardScaler\n",
    "from sklearn.neighbors import NearestNeighbors\n",
    "from sklearn.neighbors import KNeighborsRegressor\n",
    "from sklearn.cluster import KMeans\n",
    "from sklearn.cluster import DBSCAN\n",
    "from sklearn.linear_model import LogisticRegressionCV\n",
    "from sklearn.linear_model import LassoCV, RidgeCV\n",
    "import tensorflow as tf"
   ]
  },
  {
   "cell_type": "markdown",
   "metadata": {},
   "source": [
    "## 1. Read the data -- Train and test\n",
    "\n",
    "The `data` includes songs and song features of 31000 playlists, including 344493 unique songs. The `feature_song` is a dataset that stores the unique songs features. The `data_test` comtains the first 1000 playlists in `data`, and the `data_train` have the last 30000 playlists. For the test dataset, we have the information of the first 80% songs in each playlist, and try to forecast the other 20% songs."
   ]
  },
  {
   "cell_type": "code",
   "execution_count": 2,
   "metadata": {},
   "outputs": [],
   "source": [
    "feature_song = pd.read_csv('songs_feature.csv')\n",
    "data = pd.read_csv('first30.csv')"
   ]
  },
  {
   "cell_type": "code",
   "execution_count": 7,
   "metadata": {},
   "outputs": [
    {
     "name": "stdout",
     "output_type": "stream",
     "text": [
      "unique playlists in data:  31000\n",
      "unique songs in data:  344493\n"
     ]
    }
   ],
   "source": [
    "print('unique playlists in data: ', len(data.pid.unique()))\n",
    "print('unique songs in data: ', len(data.track_uri.unique()))"
   ]
  },
  {
   "cell_type": "code",
   "execution_count": 7,
   "metadata": {
    "scrolled": true
   },
   "outputs": [
    {
     "data": {
      "text/html": [
       "<div>\n",
       "<style scoped>\n",
       "    .dataframe tbody tr th:only-of-type {\n",
       "        vertical-align: middle;\n",
       "    }\n",
       "\n",
       "    .dataframe tbody tr th {\n",
       "        vertical-align: top;\n",
       "    }\n",
       "\n",
       "    .dataframe thead th {\n",
       "        text-align: right;\n",
       "    }\n",
       "</style>\n",
       "<table border=\"1\" class=\"dataframe\">\n",
       "  <thead>\n",
       "    <tr style=\"text-align: right;\">\n",
       "      <th></th>\n",
       "      <th>pid</th>\n",
       "      <th>pos</th>\n",
       "      <th>artist_name</th>\n",
       "      <th>track_uri</th>\n",
       "      <th>artist_uri</th>\n",
       "      <th>track_name</th>\n",
       "      <th>album_uri</th>\n",
       "      <th>duration_ms</th>\n",
       "      <th>album_name</th>\n",
       "      <th>danceability</th>\n",
       "      <th>energy</th>\n",
       "      <th>key</th>\n",
       "      <th>loudness</th>\n",
       "      <th>mode</th>\n",
       "      <th>speechiness</th>\n",
       "      <th>acousticness</th>\n",
       "      <th>instrumentalness</th>\n",
       "      <th>liveness</th>\n",
       "      <th>valence</th>\n",
       "      <th>tempo</th>\n",
       "    </tr>\n",
       "  </thead>\n",
       "  <tbody>\n",
       "    <tr>\n",
       "      <th>0</th>\n",
       "      <td>0</td>\n",
       "      <td>0</td>\n",
       "      <td>Missy Elliott</td>\n",
       "      <td>spotify:track:0UaMYEvWZi0ZqiDOoHU3YI</td>\n",
       "      <td>spotify:artist:2wIVse2owClT7go1WT98tk</td>\n",
       "      <td>Lose Control (feat. Ciara &amp; Fat Man Scoop)</td>\n",
       "      <td>spotify:album:6vV5UrXcfyQD1wu4Qo2I9K</td>\n",
       "      <td>226863</td>\n",
       "      <td>The Cookbook</td>\n",
       "      <td>0.904</td>\n",
       "      <td>0.813</td>\n",
       "      <td>4.0</td>\n",
       "      <td>-7.105</td>\n",
       "      <td>0.0</td>\n",
       "      <td>0.1210</td>\n",
       "      <td>0.03110</td>\n",
       "      <td>0.006970</td>\n",
       "      <td>0.0471</td>\n",
       "      <td>0.810</td>\n",
       "      <td>125.461</td>\n",
       "    </tr>\n",
       "    <tr>\n",
       "      <th>1</th>\n",
       "      <td>0</td>\n",
       "      <td>1</td>\n",
       "      <td>Britney Spears</td>\n",
       "      <td>spotify:track:6I9VzXrHxO9rA9A5euc8Ak</td>\n",
       "      <td>spotify:artist:26dSoYclwsYLMAKD3tpOr4</td>\n",
       "      <td>Toxic</td>\n",
       "      <td>spotify:album:0z7pVBGOD7HCIB7S8eLkLI</td>\n",
       "      <td>198800</td>\n",
       "      <td>In The Zone</td>\n",
       "      <td>0.774</td>\n",
       "      <td>0.838</td>\n",
       "      <td>5.0</td>\n",
       "      <td>-3.914</td>\n",
       "      <td>0.0</td>\n",
       "      <td>0.1140</td>\n",
       "      <td>0.02490</td>\n",
       "      <td>0.025000</td>\n",
       "      <td>0.2420</td>\n",
       "      <td>0.924</td>\n",
       "      <td>143.040</td>\n",
       "    </tr>\n",
       "    <tr>\n",
       "      <th>2</th>\n",
       "      <td>0</td>\n",
       "      <td>2</td>\n",
       "      <td>Beyoncé</td>\n",
       "      <td>spotify:track:0WqIKmW4BTrj3eJFmnCKMv</td>\n",
       "      <td>spotify:artist:6vWDO969PvNqNYHIOW5v0m</td>\n",
       "      <td>Crazy In Love</td>\n",
       "      <td>spotify:album:25hVFAxTlDvXbx2X2QkUkE</td>\n",
       "      <td>235933</td>\n",
       "      <td>Dangerously In Love (Alben für die Ewigkeit)</td>\n",
       "      <td>0.664</td>\n",
       "      <td>0.758</td>\n",
       "      <td>2.0</td>\n",
       "      <td>-6.583</td>\n",
       "      <td>0.0</td>\n",
       "      <td>0.2100</td>\n",
       "      <td>0.00238</td>\n",
       "      <td>0.000000</td>\n",
       "      <td>0.0598</td>\n",
       "      <td>0.701</td>\n",
       "      <td>99.259</td>\n",
       "    </tr>\n",
       "    <tr>\n",
       "      <th>3</th>\n",
       "      <td>0</td>\n",
       "      <td>3</td>\n",
       "      <td>Justin Timberlake</td>\n",
       "      <td>spotify:track:1AWQoqb9bSvzTjaLralEkT</td>\n",
       "      <td>spotify:artist:31TPClRtHm23RisEBtV3X7</td>\n",
       "      <td>Rock Your Body</td>\n",
       "      <td>spotify:album:6QPkyl04rXwTGlGlcYaRoW</td>\n",
       "      <td>267266</td>\n",
       "      <td>Justified</td>\n",
       "      <td>0.891</td>\n",
       "      <td>0.714</td>\n",
       "      <td>4.0</td>\n",
       "      <td>-6.055</td>\n",
       "      <td>0.0</td>\n",
       "      <td>0.1400</td>\n",
       "      <td>0.20200</td>\n",
       "      <td>0.000234</td>\n",
       "      <td>0.0521</td>\n",
       "      <td>0.818</td>\n",
       "      <td>100.972</td>\n",
       "    </tr>\n",
       "    <tr>\n",
       "      <th>4</th>\n",
       "      <td>0</td>\n",
       "      <td>4</td>\n",
       "      <td>Shaggy</td>\n",
       "      <td>spotify:track:1lzr43nnXAijIGYnCT8M8H</td>\n",
       "      <td>spotify:artist:5EvFsr3kj42KNv97ZEnqij</td>\n",
       "      <td>It Wasn't Me</td>\n",
       "      <td>spotify:album:6NmFmPX56pcLBOFMhIiKvF</td>\n",
       "      <td>227600</td>\n",
       "      <td>Hot Shot</td>\n",
       "      <td>0.853</td>\n",
       "      <td>0.606</td>\n",
       "      <td>0.0</td>\n",
       "      <td>-4.596</td>\n",
       "      <td>1.0</td>\n",
       "      <td>0.0713</td>\n",
       "      <td>0.05610</td>\n",
       "      <td>0.000000</td>\n",
       "      <td>0.3130</td>\n",
       "      <td>0.654</td>\n",
       "      <td>94.759</td>\n",
       "    </tr>\n",
       "  </tbody>\n",
       "</table>\n",
       "</div>"
      ],
      "text/plain": [
       "   pid  pos        artist_name                             track_uri  \\\n",
       "0    0    0      Missy Elliott  spotify:track:0UaMYEvWZi0ZqiDOoHU3YI   \n",
       "1    0    1     Britney Spears  spotify:track:6I9VzXrHxO9rA9A5euc8Ak   \n",
       "2    0    2            Beyoncé  spotify:track:0WqIKmW4BTrj3eJFmnCKMv   \n",
       "3    0    3  Justin Timberlake  spotify:track:1AWQoqb9bSvzTjaLralEkT   \n",
       "4    0    4             Shaggy  spotify:track:1lzr43nnXAijIGYnCT8M8H   \n",
       "\n",
       "                              artist_uri  \\\n",
       "0  spotify:artist:2wIVse2owClT7go1WT98tk   \n",
       "1  spotify:artist:26dSoYclwsYLMAKD3tpOr4   \n",
       "2  spotify:artist:6vWDO969PvNqNYHIOW5v0m   \n",
       "3  spotify:artist:31TPClRtHm23RisEBtV3X7   \n",
       "4  spotify:artist:5EvFsr3kj42KNv97ZEnqij   \n",
       "\n",
       "                                   track_name  \\\n",
       "0  Lose Control (feat. Ciara & Fat Man Scoop)   \n",
       "1                                       Toxic   \n",
       "2                               Crazy In Love   \n",
       "3                              Rock Your Body   \n",
       "4                                It Wasn't Me   \n",
       "\n",
       "                              album_uri  duration_ms  \\\n",
       "0  spotify:album:6vV5UrXcfyQD1wu4Qo2I9K       226863   \n",
       "1  spotify:album:0z7pVBGOD7HCIB7S8eLkLI       198800   \n",
       "2  spotify:album:25hVFAxTlDvXbx2X2QkUkE       235933   \n",
       "3  spotify:album:6QPkyl04rXwTGlGlcYaRoW       267266   \n",
       "4  spotify:album:6NmFmPX56pcLBOFMhIiKvF       227600   \n",
       "\n",
       "                                     album_name  danceability  energy  key  \\\n",
       "0                                  The Cookbook         0.904   0.813  4.0   \n",
       "1                                   In The Zone         0.774   0.838  5.0   \n",
       "2  Dangerously In Love (Alben für die Ewigkeit)         0.664   0.758  2.0   \n",
       "3                                     Justified         0.891   0.714  4.0   \n",
       "4                                      Hot Shot         0.853   0.606  0.0   \n",
       "\n",
       "   loudness  mode  speechiness  acousticness  instrumentalness  liveness  \\\n",
       "0    -7.105   0.0       0.1210       0.03110          0.006970    0.0471   \n",
       "1    -3.914   0.0       0.1140       0.02490          0.025000    0.2420   \n",
       "2    -6.583   0.0       0.2100       0.00238          0.000000    0.0598   \n",
       "3    -6.055   0.0       0.1400       0.20200          0.000234    0.0521   \n",
       "4    -4.596   1.0       0.0713       0.05610          0.000000    0.3130   \n",
       "\n",
       "   valence    tempo  \n",
       "0    0.810  125.461  \n",
       "1    0.924  143.040  \n",
       "2    0.701   99.259  \n",
       "3    0.818  100.972  \n",
       "4    0.654   94.759  "
      ]
     },
     "execution_count": 7,
     "metadata": {},
     "output_type": "execute_result"
    }
   ],
   "source": [
    "data.head()"
   ]
  },
  {
   "cell_type": "code",
   "execution_count": 8,
   "metadata": {},
   "outputs": [],
   "source": [
    "data_train = data[data['pid']>=1000]"
   ]
  },
  {
   "cell_type": "code",
   "execution_count": 9,
   "metadata": {},
   "outputs": [],
   "source": [
    "data_test = data[data['pid']<1000]"
   ]
  },
  {
   "cell_type": "code",
   "execution_count": 45,
   "metadata": {},
   "outputs": [
    {
     "name": "stdout",
     "output_type": "stream",
     "text": [
      "['danceability' 'energy' 'key' 'loudness' 'mode' 'speechiness'\n",
      " 'acousticness' 'instrumentalness' 'liveness' 'valence' 'tempo'\n",
      " 'track_uri']\n"
     ]
    }
   ],
   "source": [
    "# feature columns and normalization\n",
    "feature = data.columns[9:]\n",
    "feature = np.append(feature,'track_uri')\n",
    "print(feature)\n",
    "scale = StandardScaler()\n",
    "feature_song[feature[:-1]] = scale.fit_transform(feature_song[feature[:-1]])"
   ]
  },
  {
   "cell_type": "markdown",
   "metadata": {},
   "source": [
    "So we have song features: 'danceability' 'energy' 'key' 'loudness' 'mode' 'speechiness' 'acousticness' 'instrumentalness' 'liveness' 'valence' 'tempo' \n",
    "for each song. The feature description can be found in the `Introduction and Description of Data` part."
   ]
  },
  {
   "cell_type": "markdown",
   "metadata": {},
   "source": [
    "## 2. Nearest Neighbor with Linear Regression, or KNN Using Song Features\n",
    "\n",
    "### 2.1 Model Overview\n",
    "\n",
    "The model is firstly trianed using Nearest Neighbours in the perspective of playlists. We define the 'Nearest Neighbours' as the playlists that share the most common songs with the target playlist. Then we extend the idea and define the 'Furthest Neighbours' as the playlists that share the least common songs with the target playlist. Given a playlist, we find 20 nearest neighbours and 20 furthest neighbours in the training set. \n",
    "\n",
    "Then we lable the songs in the nearest neighbour playlists 1, and songs in the furthest neighbours 0, for the first model. For the second model, we label the songs with the frequency they appear in the nearest neighbors playlists. The reason behind is that it is believed that songs in the near playlists, either they are included in our target playlist or not, share some common characteristics with our target, and the songs in the far playlists, share some opposite characteristics with our target. The song features could be deployed in models to capture such underlying relationship.\n",
    "\n",
    "Last, another model (Linear regression with cross validation, or KNN) is trained in song feature data of 40 playlists above, to find a function to predict whether a song is in the target playlist given its features. We then use this function to determine which song to be recommended."
   ]
  },
  {
   "cell_type": "markdown",
   "metadata": {},
   "source": [
    "### 2.2 Model Function"
   ]
  },
  {
   "cell_type": "code",
   "execution_count": 14,
   "metadata": {},
   "outputs": [],
   "source": [
    "# build a dictionary to store the relationship between playlists and included songs\n",
    "dic = dict()\n",
    "for i, row in data_train.iterrows():\n",
    "    if row['pid'] in dic:\n",
    "        dic[row['pid']].append(row['track_uri'])\n",
    "    else:\n",
    "        dic[row['pid']] = [row['track_uri']]"
   ]
  },
  {
   "cell_type": "code",
   "execution_count": 15,
   "metadata": {},
   "outputs": [],
   "source": [
    "dic_test = dict()\n",
    "for i, row in data_test.iterrows():\n",
    "    if row['pid'] in dic_test:\n",
    "        dic_test[row['pid']].append(row['track_uri'])\n",
    "    else:\n",
    "        dic_test[row['pid']] = [row['track_uri']]"
   ]
  },
  {
   "cell_type": "code",
   "execution_count": 16,
   "metadata": {},
   "outputs": [],
   "source": [
    "# function to calculate the similarity between playlists\n",
    "def cos_sim1(dic, base, pid_a):\n",
    "    a_tracks = set(dic[pid_a])\n",
    "    inter = len(a_tracks.intersection(base))\n",
    "    a_norm = np.sqrt(len(a_tracks))\n",
    "    b_norm = np.sqrt(len(base))   \n",
    "    return inter / (a_norm * b_norm)"
   ]
  },
  {
   "cell_type": "code",
   "execution_count": 18,
   "metadata": {},
   "outputs": [],
   "source": [
    "#function to get the nearest and furthest playlist id in the training set given a new playlist\n",
    "def get_sims_for_track(dic, base, most_like_num, least_like_num): #base is a set of tracks, an incomplete playlist\n",
    "    sim_list = []\n",
    "    for pid in list(dic.keys()):\n",
    "        sim_degree = cos_sim1(dic, base, pid)\n",
    "        sim_list.append(sim_degree)\n",
    "    sort_pid = np.argsort(-np.array(sim_list))\n",
    "    most_like_pids = sort_pid[:most_like_num]+1000\n",
    "    least_like_pids = sort_pid[-least_like_num:]+1000\n",
    "    return most_like_pids, least_like_pids"
   ]
  },
  {
   "cell_type": "code",
   "execution_count": 169,
   "metadata": {},
   "outputs": [],
   "source": [
    "#example\n",
    "m, l = get_sims_for_track(dic, dic_test[3][:90], 10, 10)"
   ]
  },
  {
   "cell_type": "code",
   "execution_count": 93,
   "metadata": {},
   "outputs": [],
   "source": [
    "# function to get the train data with song features using nearest and furthest playlist information\n",
    "def get_train_data(most_like_pids, least_like_pids):\n",
    "    train_x = pd.DataFrame(columns=feature)\n",
    "    most_uri = []\n",
    "    least_uri = []\n",
    "    for pid in most_like_pids:\n",
    "        most_uri.extend(dic[pid])\n",
    "    for pid in least_like_pids:\n",
    "        least_uri.extend(dic[pid])\n",
    "    train_x_most = feature_song[feature_song['track_uri'].apply(lambda x: x in most_uri)][feature]\n",
    "    train_x_most['response'] = 1\n",
    "    train_x_least = feature_song[feature_song['track_uri'].apply(lambda x: x in least_uri)][feature]\n",
    "    train_x_least['response'] = 0\n",
    "    train_x = pd.concat([train_x_most, train_x_least],axis=0)\n",
    "    return train_x"
   ]
  },
  {
   "cell_type": "code",
   "execution_count": 189,
   "metadata": {},
   "outputs": [],
   "source": [
    "from collections import Counter\n",
    "def get_train_data_weighted(most_like_pids, least_like_pids):\n",
    "    train_x = pd.DataFrame(columns=feature)\n",
    "    most_uri = []\n",
    "    least_uri = []\n",
    "    for pid in most_like_pids:\n",
    "        most_uri.extend(dic[pid])\n",
    "    for pid in least_like_pids:\n",
    "        least_uri.extend(dic[pid])\n",
    "    c1 = Counter(most_uri)\n",
    "    train_x_most = feature_song[feature_song['track_uri'].apply(lambda x: x in most_uri)][feature]\n",
    "    train_x_most['response'] = train_x_most['track_uri'].apply(lambda x: max(1, c1[x]))\n",
    "    train_x_least = feature_song[feature_song['track_uri'].apply(lambda x: x in least_uri)][feature]\n",
    "    train_x_least['response'] = -1\n",
    "    train_x = pd.concat([train_x_most, train_x_least],axis=0)\n",
    "    return train_x, train_x_most"
   ]
  },
  {
   "cell_type": "code",
   "execution_count": 190,
   "metadata": {},
   "outputs": [],
   "source": [
    "#example\n",
    "train_x, train_x_most = get_train_data_weighted(m, l)"
   ]
  },
  {
   "cell_type": "code",
   "execution_count": 128,
   "metadata": {},
   "outputs": [],
   "source": [
    "def train_model(train_x, model, test_x, given_playlist):\n",
    "    model.fit(train_x[feature[:-1]], train_x['response'])\n",
    "    predict_y = model.predict(test_x[feature[:-1]])\n",
    "    predict_index = np.argsort(-predict_y)\n",
    "    sorted_track = test_x['track_uri'].iloc[predict_index]\n",
    "    predict_track = [x for x in sorted_track if x not in given_playlist][:int(len(given_playlist)/8*10)]\n",
    "    return predict_track"
   ]
  },
  {
   "cell_type": "code",
   "execution_count": 161,
   "metadata": {},
   "outputs": [],
   "source": [
    "def train_model_noreg(train_x, model, test_x, given_playlist):\n",
    "    #model.fit(train_x[feature[:-1]], train_x['response'])\n",
    "    #predict_y = model.predict(test_x[feature[:-1]])\n",
    "    predict_index = np.argsort(-train_x['response'].values)\n",
    "    sorted_track = test_x['track_uri'].iloc[predict_index]\n",
    "    predict_track = [x for x in sorted_track if x not in given_playlist][:int(len(given_playlist)/8*10)]\n",
    "    return predict_track"
   ]
  },
  {
   "cell_type": "code",
   "execution_count": 191,
   "metadata": {
    "scrolled": true
   },
   "outputs": [],
   "source": [
    "#example\n",
    "lr = KNeighborsRegressor(n_neighbors=3)\n",
    "predict_track = train_model(train_x, lr, train_x_most, dic_test[3])"
   ]
  },
  {
   "cell_type": "code",
   "execution_count": 192,
   "metadata": {},
   "outputs": [
    {
     "data": {
      "text/plain": [
       "0.4400793963554003"
      ]
     },
     "execution_count": 192,
     "metadata": {},
     "output_type": "execute_result"
    }
   ],
   "source": [
    "#example\n",
    "lr.score(train_x[feature[:-1]], train_x['response'])"
   ]
  },
  {
   "cell_type": "code",
   "execution_count": 107,
   "metadata": {},
   "outputs": [],
   "source": [
    "def evaluation(predict_track, playlist_hidden):# r-precision\n",
    "    correct = set(predict_track).intersection(set(playlist_hidden))\n",
    "    return len(correct)/len(playlist_hidden)"
   ]
  },
  {
   "cell_type": "code",
   "execution_count": 193,
   "metadata": {
    "scrolled": true
   },
   "outputs": [
    {
     "data": {
      "text/plain": [
       "0.0"
      ]
     },
     "execution_count": 193,
     "metadata": {},
     "output_type": "execute_result"
    }
   ],
   "source": [
    "#example\n",
    "evaluation(predict_track, dic_test[3][90:])"
   ]
  },
  {
   "cell_type": "code",
   "execution_count": 194,
   "metadata": {},
   "outputs": [],
   "source": [
    "def test_model_performance(test_playlist, dic, hidden_pct, model, most_like_num, least_like_num): #single playlist test\n",
    "    hidden = int(hidden_pct*len(test_playlist))\n",
    "    m, l = get_sims_for_track(dic, test_playlist[:-hidden], most_like_num, least_like_num)\n",
    "    train_x, train_x_most = get_train_data_weighted(m, l)\n",
    "    predict_track = train_model(train_x, model, train_x_most, test_playlist[:-hidden])\n",
    "    score = evaluation(predict_track, test_playlist[-hidden:])\n",
    "    return score\n",
    "    "
   ]
  },
  {
   "cell_type": "code",
   "execution_count": 206,
   "metadata": {},
   "outputs": [],
   "source": [
    "def test_model_performance_two(test_playlist, dic, hidden_pct, model1, model2, most_like_num, least_like_num): #single playlist test\n",
    "    hidden = int(hidden_pct*len(test_playlist))\n",
    "    m, l = get_sims_for_track(dic, test_playlist[:-hidden], most_like_num, least_like_num)\n",
    "    train_x, train_x_most = get_train_data_weighted(m, l)\n",
    "    predict_track1 = train_model(train_x, model1, train_x_most, test_playlist[:-hidden])\n",
    "    predict_track2 = train_model(train_x, model2, train_x_most, test_playlist[:-hidden])\n",
    "    score1 = evaluation(predict_track1, test_playlist[-hidden:])\n",
    "    score2 = evaluation(predict_track2, test_playlist[-hidden:])\n",
    "    return score1, score2"
   ]
  },
  {
   "cell_type": "code",
   "execution_count": 179,
   "metadata": {},
   "outputs": [],
   "source": [
    "#example\n",
    "test_playlist = dic_test[2]\n",
    "lr = RidgeCV(cv=3)\n",
    "test_model_performance(test_playlist, dic, 0.2, lr, 20, 20)"
   ]
  },
  {
   "cell_type": "markdown",
   "metadata": {},
   "source": [
    "\n",
    "### 2.3 Model Performance in the 1000 Test Playlists\n"
   ]
  },
  {
   "cell_type": "code",
   "execution_count": 195,
   "metadata": {},
   "outputs": [
    {
     "name": "stdout",
     "output_type": "stream",
     "text": [
      "100\n",
      "0.0\n",
      "101\n",
      "0.0\n",
      "102\n",
      "0.2222222222222222\n",
      "103\n",
      "0.2571428571428571\n",
      "104\n",
      "0.0\n",
      "105\n",
      "0.21739130434782608\n",
      "106\n",
      "0.18181818181818182\n",
      "107\n",
      "0.08333333333333333\n",
      "108\n",
      "0.07692307692307693\n",
      "109\n",
      "0.15384615384615385\n",
      "110\n",
      "0.0\n",
      "111\n",
      "0.25\n",
      "112\n",
      "0.0\n",
      "113\n",
      "0.0\n",
      "114\n",
      "0.0\n",
      "115\n",
      "0.18421052631578946\n",
      "116\n",
      "0.0\n",
      "117\n",
      "0.0\n",
      "118\n",
      "0.14285714285714285\n",
      "119\n",
      "0.0\n",
      "120\n",
      "0.0\n",
      "121\n",
      "0.21212121212121213\n",
      "122\n",
      "0.25\n",
      "123\n",
      "0.14285714285714285\n",
      "124\n",
      "0.17142857142857143\n",
      "125\n",
      "0.0\n",
      "126\n",
      "0.0\n",
      "127\n",
      "0.0\n",
      "128\n",
      "0.0\n",
      "129\n",
      "0.0\n",
      "130\n",
      "0.024390243902439025\n",
      "131\n",
      "0.15789473684210525\n",
      "132\n",
      "0.0\n",
      "133\n",
      "0.0\n",
      "134\n",
      "0.13043478260869565\n",
      "135\n",
      "0.3\n",
      "136\n",
      "0.0\n",
      "137\n",
      "0.0\n",
      "138\n",
      "0.038461538461538464\n",
      "139\n",
      "0.0\n",
      "140\n",
      "0.0\n",
      "141\n",
      "0.0\n",
      "142\n",
      "0.14285714285714285\n",
      "143\n",
      "0.0\n",
      "144\n",
      "0.0\n",
      "145\n",
      "0.1111111111111111\n",
      "146\n",
      "0.07692307692307693\n",
      "147\n",
      "0.0\n",
      "148\n",
      "0.2857142857142857\n",
      "149\n",
      "0.16666666666666666\n",
      "150\n",
      "0.15384615384615385\n",
      "151\n",
      "0.125\n",
      "152\n",
      "0.058823529411764705\n",
      "153\n",
      "0.0\n",
      "154\n",
      "0.3\n",
      "155\n",
      "0.0\n",
      "156\n",
      "0.08108108108108109\n",
      "157\n",
      "0.25\n",
      "158\n",
      "0.05\n",
      "159\n",
      "0.0\n",
      "160\n",
      "0.0\n",
      "161\n",
      "0.125\n",
      "162\n",
      "0.125\n",
      "163\n",
      "0.0\n",
      "164\n",
      "0.0\n",
      "165\n",
      "0.0\n",
      "166\n",
      "0.18181818181818182\n",
      "167\n",
      "0.0\n",
      "168\n",
      "0.5\n",
      "169\n",
      "0.0\n",
      "170\n",
      "0.1\n",
      "171\n",
      "0.0\n",
      "172\n",
      "0.0\n",
      "173\n",
      "0.10526315789473684\n",
      "174\n",
      "0.0\n",
      "175\n",
      "0.0\n",
      "176\n",
      "0.17857142857142858\n",
      "177\n",
      "0.0\n",
      "178\n",
      "0.2857142857142857\n",
      "179\n",
      "0.0\n",
      "180\n",
      "0.0\n",
      "181\n",
      "0.0\n",
      "182\n",
      "0.11764705882352941\n",
      "183\n",
      "0.0\n",
      "184\n",
      "0.0\n",
      "185\n",
      "0.125\n",
      "186\n",
      "0.125\n",
      "187\n",
      "0.0\n",
      "188\n",
      "0.0\n",
      "189\n",
      "0.0\n",
      "190\n",
      "0.2857142857142857\n",
      "191\n",
      "0.0\n",
      "192\n",
      "0.2857142857142857\n",
      "193\n",
      "0.0\n",
      "194\n",
      "0.038461538461538464\n",
      "195\n",
      "0.0\n",
      "196\n",
      "0.0\n",
      "197\n",
      "0.0\n",
      "198\n",
      "0.0\n",
      "199\n",
      "0.13333333333333333\n",
      "200\n",
      "0.5\n",
      "201\n",
      "0.0\n",
      "202\n",
      "0.16666666666666666\n",
      "203\n",
      "0.0\n",
      "204\n",
      "0.0\n",
      "205\n",
      "0.0\n",
      "206\n",
      "0.0\n",
      "207\n",
      "0.125\n",
      "208\n",
      "0.0\n",
      "209\n",
      "0.2\n",
      "210\n",
      "0.5416666666666666\n",
      "211\n",
      "0.2\n",
      "212\n",
      "0.3793103448275862\n",
      "213\n",
      "0.6666666666666666\n",
      "214\n",
      "0.0967741935483871\n",
      "215\n",
      "0.0\n",
      "216\n",
      "0.0\n",
      "217\n",
      "0.06896551724137931\n",
      "218\n",
      "0.0\n",
      "219\n",
      "0.0\n",
      "220\n",
      "0.07692307692307693\n",
      "221\n",
      "0.0\n",
      "222\n",
      "0.0\n",
      "223\n",
      "0.20833333333333334\n",
      "224\n",
      "0.0\n",
      "225\n",
      "0.0625\n",
      "226\n",
      "0.18181818181818182\n",
      "227\n",
      "0.09090909090909091\n",
      "228\n",
      "0.2\n",
      "229\n",
      "0.0\n",
      "230\n",
      "0.0\n",
      "231\n",
      "0.15555555555555556\n",
      "232\n",
      "0.1\n",
      "233\n",
      "0.0\n",
      "234\n",
      "0.0\n",
      "235\n",
      "0.0\n",
      "236\n",
      "0.1111111111111111\n",
      "237\n",
      "0.1111111111111111\n",
      "238\n",
      "0.25\n",
      "239\n",
      "0.041666666666666664\n",
      "240\n",
      "0.0\n",
      "241\n",
      "0.0\n",
      "242\n",
      "0.0\n",
      "243\n",
      "0.20833333333333334\n",
      "244\n",
      "0.07692307692307693\n",
      "245\n",
      "0.08333333333333333\n",
      "246\n",
      "0.0\n",
      "247\n",
      "0.0\n",
      "248\n",
      "0.0\n",
      "249\n",
      "0.0\n",
      "250\n",
      "0.0\n",
      "251\n",
      "0.0\n",
      "252\n",
      "0.15789473684210525\n",
      "253\n",
      "0.13333333333333333\n",
      "254\n",
      "0.14285714285714285\n",
      "255\n",
      "0.0\n",
      "256\n",
      "0.0\n",
      "257\n",
      "0.0\n",
      "258\n",
      "0.14285714285714285\n",
      "259\n",
      "0.0\n",
      "260\n",
      "0.0\n",
      "261\n",
      "0.0\n",
      "262\n",
      "0.20689655172413793\n",
      "263\n",
      "0.125\n",
      "264\n",
      "0.05405405405405406\n",
      "265\n",
      "0.0\n",
      "266\n",
      "1.0\n",
      "267\n",
      "0.14285714285714285\n",
      "268\n",
      "0.2857142857142857\n",
      "269\n",
      "0.0\n",
      "270\n",
      "0.17142857142857143\n",
      "271\n",
      "0.0\n",
      "272\n",
      "0.0\n",
      "273\n",
      "0.0\n",
      "274\n",
      "0.0\n",
      "275\n",
      "0.0\n",
      "276\n",
      "0.0\n",
      "277\n",
      "0.1111111111111111\n",
      "278\n",
      "0.0\n",
      "279\n",
      "0.2631578947368421\n",
      "280\n",
      "0.0\n",
      "281\n",
      "0.2727272727272727\n",
      "282\n",
      "0.0\n",
      "283\n",
      "0.2857142857142857\n",
      "284\n",
      "0.0\n",
      "285\n",
      "0.21052631578947367\n",
      "286\n",
      "0.0\n",
      "287\n",
      "0.0\n",
      "288\n",
      "0.0\n",
      "289\n",
      "0.0\n",
      "290\n",
      "0.0\n",
      "291\n",
      "0.07142857142857142\n",
      "292\n",
      "0.14285714285714285\n",
      "293\n",
      "0.18181818181818182\n",
      "294\n",
      "0.3125\n",
      "295\n",
      "0.1111111111111111\n",
      "296\n",
      "0.0\n",
      "297\n",
      "0.0\n",
      "298\n",
      "0.1111111111111111\n",
      "299\n",
      "0.0\n"
     ]
    },
    {
     "data": {
      "text/plain": [
       "'\\nfor i in range(100,300):\\n    print(i)\\n    test_playlist = dic_test[i]\\n    lr = RidgeCV()\\n    score = test_model_performance(test_playlist, dic, 0.2, 1000, lr, 50, 50)\\n    print(score)\\n    scores_lr3.append(score)\\nfor i in range(100,300):\\n    print(i)\\n    test_playlist = dic_test[i]\\n    lr = LassoCV(cv=4)\\n    score = test_model_performance(test_playlist, dic, 0.2, 1000, lr, 30, 30)\\n    print(score)\\n    scores_lr4.append(score)\\n'"
      ]
     },
     "execution_count": 195,
     "metadata": {},
     "output_type": "execute_result"
    }
   ],
   "source": [
    "#all test data set: KNN with other models 100-299 playlists\n",
    "scores_lr2 = []\n",
    "for i in range(100,300):\n",
    "    print(i)\n",
    "    test_playlist = dic_test[i]\n",
    "    lr = KNeighborsRegressor(n_neighbors=3)\n",
    "    score = test_model_performance(test_playlist, dic, 0.2, lr, 20, 20)\n",
    "    print(score)\n",
    "    scores_lr2.append(score)\n"
   ]
  },
  {
   "cell_type": "code",
   "execution_count": 198,
   "metadata": {
    "scrolled": true
   },
   "outputs": [
    {
     "name": "stdout",
     "output_type": "stream",
     "text": [
      "300\n",
      "0.0\n",
      "301\n",
      "0.25\n",
      "302\n",
      "0.14285714285714285\n",
      "303\n",
      "0.25\n",
      "304\n",
      "0.0\n",
      "305\n",
      "0.0\n",
      "306\n",
      "0.4\n",
      "307\n",
      "0.0\n",
      "308\n",
      "0.0\n",
      "309\n",
      "0.0\n",
      "310\n",
      "0.1\n",
      "311\n",
      "0.0\n",
      "312\n",
      "0.0\n",
      "313\n",
      "0.0\n",
      "314\n",
      "0.14285714285714285\n",
      "315\n",
      "0.4\n",
      "316\n",
      "0.0\n",
      "317\n",
      "0.16666666666666666\n",
      "318\n",
      "0.0\n",
      "319\n",
      "0.08333333333333333\n",
      "320\n",
      "0.0\n",
      "321\n",
      "0.5\n",
      "322\n",
      "0.0\n",
      "323\n",
      "0.0\n",
      "324\n",
      "0.35714285714285715\n",
      "325\n",
      "0.0\n",
      "326\n",
      "0.25\n",
      "327\n",
      "0.3333333333333333\n",
      "328\n",
      "0.08333333333333333\n",
      "329\n",
      "0.0\n",
      "330\n",
      "0.05714285714285714\n",
      "331\n",
      "0.14814814814814814\n",
      "332\n",
      "0.08333333333333333\n",
      "333\n",
      "0.0\n",
      "334\n",
      "0.2916666666666667\n",
      "335\n",
      "0.4642857142857143\n",
      "336\n",
      "0.0\n",
      "337\n",
      "0.0\n",
      "338\n",
      "0.17391304347826086\n",
      "339\n",
      "0.12\n",
      "340\n",
      "0.0\n",
      "341\n",
      "0.04878048780487805\n",
      "342\n",
      "0.0\n",
      "343\n",
      "0.16666666666666666\n",
      "344\n",
      "0.0\n",
      "345\n",
      "0.0\n",
      "346\n",
      "0.0\n",
      "347\n",
      "0.0\n",
      "348\n",
      "0.2\n",
      "349\n",
      "0.0\n",
      "350\n",
      "0.4375\n",
      "351\n",
      "0.09090909090909091\n",
      "352\n",
      "0.0\n",
      "353\n",
      "0.5\n",
      "354\n",
      "0.25\n",
      "355\n",
      "0.07142857142857142\n",
      "356\n",
      "0.0\n",
      "357\n",
      "0.03125\n",
      "358\n",
      "0.06666666666666667\n",
      "359\n",
      "0.1\n",
      "360\n",
      "0.2692307692307692\n",
      "361\n",
      "0.0\n",
      "362\n",
      "0.10638297872340426\n",
      "363\n",
      "0.2\n",
      "364\n",
      "0.2222222222222222\n",
      "365\n",
      "0.28\n",
      "366\n",
      "0.0\n",
      "367\n",
      "0.0\n",
      "368\n",
      "0.0\n",
      "369\n",
      "0.08333333333333333\n",
      "370\n",
      "0.375\n",
      "371\n",
      "0.0\n",
      "372\n",
      "0.0\n",
      "373\n",
      "0.0\n",
      "374\n",
      "0.16666666666666666\n",
      "375\n",
      "0.0\n",
      "376\n",
      "0.11764705882352941\n",
      "377\n",
      "0.25\n",
      "378\n",
      "0.0\n",
      "379\n",
      "0.0\n",
      "380\n",
      "0.2692307692307692\n",
      "381\n",
      "0.0\n",
      "382\n",
      "0.0\n",
      "383\n",
      "0.16666666666666666\n",
      "384\n",
      "0.0\n",
      "385\n",
      "0.4\n",
      "386\n",
      "0.0\n",
      "387\n",
      "0.0\n",
      "388\n",
      "0.2\n",
      "389\n",
      "0.058823529411764705\n",
      "390\n",
      "0.0\n",
      "391\n",
      "0.07692307692307693\n",
      "392\n",
      "0.058823529411764705\n",
      "393\n",
      "0.0\n",
      "394\n",
      "0.0\n",
      "395\n",
      "0.0\n",
      "396\n",
      "0.03333333333333333\n",
      "397\n",
      "0.0\n",
      "398\n",
      "0.0\n",
      "399\n",
      "0.0\n",
      "400\n",
      "0.125\n",
      "401\n",
      "0.0\n",
      "402\n",
      "0.0\n",
      "403\n",
      "0.09523809523809523\n",
      "404\n",
      "0.14285714285714285\n",
      "405\n",
      "0.14285714285714285\n",
      "406\n",
      "0.26666666666666666\n",
      "407\n",
      "0.0\n",
      "408\n",
      "0.0\n",
      "409\n",
      "0.0\n",
      "410\n",
      "0.0\n",
      "411\n",
      "0.30303030303030304\n",
      "412\n",
      "0.4594594594594595\n",
      "413\n",
      "0.25\n",
      "414\n",
      "0.0\n",
      "415\n",
      "0.0\n",
      "416\n",
      "0.0\n",
      "417\n",
      "0.0\n",
      "418\n",
      "0.3333333333333333\n",
      "419\n",
      "0.08333333333333333\n",
      "420\n",
      "0.0\n",
      "421\n",
      "0.0\n",
      "422\n",
      "0.09090909090909091\n",
      "423\n",
      "0.0\n",
      "424\n",
      "0.20833333333333334\n",
      "425\n",
      "0.0\n",
      "426\n",
      "0.0\n",
      "427\n",
      "0.045454545454545456\n",
      "428\n",
      "0.13636363636363635\n",
      "429\n",
      "0.0\n",
      "430\n",
      "0.2\n",
      "431\n",
      "0.0\n",
      "432\n",
      "0.0625\n",
      "433\n",
      "0.0\n",
      "434\n",
      "0.05\n",
      "435\n",
      "0.0\n",
      "436\n",
      "0.06666666666666667\n",
      "437\n",
      "0.1794871794871795\n",
      "438\n",
      "0.05555555555555555\n",
      "439\n",
      "0.11764705882352941\n",
      "440\n",
      "0.0\n",
      "441\n",
      "0.1\n",
      "442\n",
      "0.1282051282051282\n",
      "443\n",
      "0.0\n",
      "444\n",
      "0.0\n",
      "445\n",
      "0.0\n",
      "446\n",
      "0.0\n",
      "447\n",
      "0.15151515151515152\n",
      "448\n",
      "0.0\n",
      "449\n",
      "0.0\n",
      "450\n",
      "0.0\n",
      "451\n",
      "0.0\n",
      "452\n",
      "0.0\n",
      "453\n",
      "0.0967741935483871\n",
      "454\n",
      "0.16129032258064516\n",
      "455\n",
      "0.0\n",
      "456\n",
      "0.1875\n",
      "457\n",
      "0.08333333333333333\n",
      "458\n",
      "0.058823529411764705\n",
      "459\n",
      "0.0\n",
      "460\n",
      "0.15789473684210525\n",
      "461\n",
      "0.3333333333333333\n",
      "462\n",
      "0.1\n",
      "463\n",
      "0.0\n",
      "464\n",
      "0.5\n",
      "465\n",
      "0.07142857142857142\n",
      "466\n",
      "0.0\n",
      "467\n",
      "0.0\n",
      "468\n",
      "0.25\n",
      "469\n",
      "0.08333333333333333\n",
      "470\n",
      "0.08823529411764706\n",
      "471\n",
      "0.10714285714285714\n",
      "472\n",
      "0.25925925925925924\n",
      "473\n",
      "0.0\n",
      "474\n",
      "0.0\n",
      "475\n",
      "0.08571428571428572\n",
      "476\n",
      "0.0\n",
      "477\n",
      "0.0\n",
      "478\n",
      "0.0\n",
      "479\n",
      "0.0\n",
      "480\n",
      "0.15789473684210525\n",
      "481\n",
      "0.0\n",
      "482\n",
      "0.0\n",
      "483\n",
      "0.020833333333333332\n",
      "484\n",
      "0.0\n",
      "485\n",
      "0.09090909090909091\n",
      "486\n",
      "0.0\n",
      "487\n",
      "0.0\n",
      "488\n",
      "0.14285714285714285\n",
      "489\n",
      "0.09090909090909091\n",
      "490\n",
      "0.0\n",
      "491\n",
      "0.023255813953488372\n",
      "492\n",
      "0.3333333333333333\n",
      "493\n",
      "0.09090909090909091\n",
      "494\n",
      "0.0\n",
      "495\n",
      "0.0\n",
      "496\n",
      "0.0\n",
      "497\n",
      "0.0\n",
      "498\n",
      "0.0\n",
      "499\n",
      "0.058823529411764705\n",
      "500\n",
      "0.0\n",
      "501\n",
      "0.0\n",
      "502\n",
      "0.1\n",
      "503\n",
      "0.4\n",
      "504\n",
      "0.16129032258064516\n",
      "505\n",
      "0.0\n",
      "506\n",
      "0.07142857142857142\n",
      "507\n",
      "0.3333333333333333\n",
      "508\n",
      "0.2\n",
      "509\n",
      "0.23529411764705882\n",
      "510\n",
      "0.0\n",
      "511\n",
      "0.16666666666666666\n",
      "512\n",
      "0.0\n",
      "513\n",
      "0.1111111111111111\n",
      "514\n",
      "0.0\n",
      "515\n",
      "0.14285714285714285\n",
      "516\n",
      "0.10810810810810811\n",
      "517\n",
      "0.0\n",
      "518\n",
      "0.0\n",
      "519\n",
      "0.0\n",
      "520\n",
      "0.0\n",
      "521\n",
      "0.04\n",
      "522\n",
      "0.0\n",
      "523\n",
      "0.1\n",
      "524\n",
      "0.0\n",
      "525\n",
      "0.07407407407407407\n",
      "526\n",
      "0.04\n",
      "527\n",
      "0.0\n",
      "528\n",
      "0.14814814814814814\n",
      "529\n",
      "0.0\n",
      "530\n",
      "0.1\n",
      "531\n",
      "0.0\n",
      "532\n",
      "0.13793103448275862\n",
      "533\n",
      "0.0\n",
      "534\n",
      "0.0\n",
      "535\n",
      "0.0\n",
      "536\n",
      "0.0\n",
      "537\n",
      "0.2857142857142857\n",
      "538\n",
      "0.0\n",
      "539\n",
      "0.0\n",
      "540\n",
      "0.2\n",
      "541\n",
      "0.0\n",
      "542\n",
      "0.07692307692307693\n",
      "543\n",
      "0.0\n",
      "544\n",
      "0.2\n",
      "545\n",
      "0.0\n",
      "546\n",
      "0.3\n",
      "547\n",
      "0.0\n",
      "548\n",
      "0.0\n",
      "549\n",
      "0.0\n",
      "550\n",
      "0.0\n",
      "551\n",
      "0.0\n",
      "552\n",
      "0.07142857142857142\n",
      "553\n",
      "0.09302325581395349\n",
      "554\n",
      "0.0\n",
      "555\n",
      "0.0\n",
      "556\n",
      "0.1\n",
      "557\n",
      "0.0\n",
      "558\n",
      "0.1111111111111111\n",
      "559\n",
      "0.1276595744680851\n",
      "560\n",
      "0.14285714285714285\n",
      "561\n",
      "0.1111111111111111\n",
      "562\n",
      "0.0\n",
      "563\n",
      "0.0\n",
      "564\n",
      "0.0\n",
      "565\n",
      "0.3333333333333333\n",
      "566\n",
      "0.0\n",
      "567\n",
      "0.0\n",
      "568\n",
      "0.6666666666666666\n",
      "569\n",
      "0.0\n",
      "570\n",
      "0.0\n",
      "571\n",
      "0.0\n",
      "572\n",
      "0.17142857142857143\n",
      "573\n",
      "0.0\n",
      "574\n",
      "0.0\n",
      "575\n",
      "0.0\n",
      "576\n",
      "0.0\n",
      "577\n",
      "0.0\n",
      "578\n",
      "0.25\n",
      "579\n",
      "0.2\n",
      "580\n",
      "0.4444444444444444\n",
      "581\n",
      "0.0\n",
      "582\n",
      "0.0\n",
      "583\n",
      "0.5833333333333334\n",
      "584\n",
      "0.07894736842105263\n",
      "585\n",
      "0.18421052631578946\n",
      "586\n",
      "0.0\n",
      "587\n",
      "0.0\n",
      "588\n",
      "0.0\n",
      "589\n",
      "0.0\n",
      "590\n",
      "0.1\n",
      "591\n",
      "0.0\n",
      "592\n",
      "0.0\n",
      "593\n",
      "0.0\n",
      "594\n",
      "0.0\n",
      "595\n",
      "0.0\n",
      "596\n",
      "0.0\n",
      "597\n",
      "0.0\n",
      "598\n",
      "0.0\n",
      "599\n",
      "0.0\n"
     ]
    }
   ],
   "source": [
    "# no.300 - 599 test playlists\n",
    "scores_lr3 = []\n",
    "for i in range(300,600):\n",
    "    print(i)\n",
    "    test_playlist = dic_test[i]\n",
    "    lr = KNeighborsRegressor(n_neighbors=3)\n",
    "    score = test_model_performance(test_playlist, dic, 0.2, lr, 20, 20)\n",
    "    print(score)\n",
    "    scores_lr3.append(score)"
   ]
  },
  {
   "cell_type": "code",
   "execution_count": 197,
   "metadata": {},
   "outputs": [
    {
     "data": {
      "text/plain": [
       "0.0862605875869671"
      ]
     },
     "execution_count": 197,
     "metadata": {},
     "output_type": "execute_result"
    }
   ],
   "source": [
    "np.mean(scores_lr2)"
   ]
  },
  {
   "cell_type": "code",
   "execution_count": 200,
   "metadata": {},
   "outputs": [
    {
     "data": {
      "text/plain": [
       "0.08342045009811123"
      ]
     },
     "execution_count": 200,
     "metadata": {},
     "output_type": "execute_result"
    }
   ],
   "source": [
    "np.mean(scores_lr3)"
   ]
  },
  {
   "cell_type": "code",
   "execution_count": 201,
   "metadata": {},
   "outputs": [
    {
     "name": "stdout",
     "output_type": "stream",
     "text": [
      "600\n",
      "0.034482758620689655\n",
      "601\n",
      "0.14285714285714285\n",
      "602\n",
      "0.0\n",
      "603\n",
      "0.25\n",
      "604\n",
      "0.0\n",
      "605\n",
      "0.15789473684210525\n",
      "606\n",
      "0.5454545454545454\n",
      "607\n",
      "0.16666666666666666\n",
      "608\n",
      "0.0\n",
      "609\n",
      "0.23076923076923078\n",
      "610\n",
      "0.0\n",
      "611\n",
      "0.06896551724137931\n",
      "612\n",
      "0.25\n",
      "613\n",
      "0.0\n",
      "614\n",
      "0.0\n",
      "615\n",
      "0.0\n",
      "616\n",
      "0.0\n",
      "617\n",
      "0.0\n",
      "618\n",
      "0.0\n",
      "619\n",
      "0.0\n",
      "620\n",
      "0.5\n",
      "621\n",
      "0.0\n",
      "622\n",
      "0.0\n",
      "623\n",
      "0.2\n",
      "624\n",
      "0.0\n",
      "625\n",
      "0.0\n",
      "626\n",
      "0.16666666666666666\n",
      "627\n",
      "0.0\n",
      "628\n",
      "0.0\n",
      "629\n",
      "0.0\n",
      "630\n",
      "0.16666666666666666\n",
      "631\n",
      "0.08333333333333333\n",
      "632\n",
      "0.0\n",
      "633\n",
      "0.21052631578947367\n",
      "634\n",
      "0.09090909090909091\n",
      "635\n",
      "0.0\n",
      "636\n",
      "0.0\n",
      "637\n",
      "0.3170731707317073\n",
      "638\n",
      "0.3333333333333333\n",
      "639\n",
      "0.375\n",
      "640\n",
      "0.14285714285714285\n",
      "641\n",
      "0.0\n",
      "642\n",
      "0.3\n",
      "643\n",
      "0.3333333333333333\n",
      "644\n",
      "0.0\n",
      "645\n",
      "0.0\n",
      "646\n",
      "0.0\n",
      "647\n",
      "0.0\n",
      "648\n",
      "0.11538461538461539\n",
      "649\n",
      "0.13636363636363635\n",
      "650\n",
      "0.25\n",
      "651\n",
      "0.0\n",
      "652\n",
      "0.0\n",
      "653\n",
      "0.0\n",
      "654\n",
      "0.0\n",
      "655\n",
      "0.1\n",
      "656\n",
      "0.1\n",
      "657\n",
      "0.3333333333333333\n",
      "658\n",
      "0.0\n",
      "659\n",
      "0.0\n",
      "660\n",
      "0.0\n",
      "661\n",
      "0.09090909090909091\n",
      "662\n",
      "0.08333333333333333\n",
      "663\n",
      "0.2\n",
      "664\n",
      "0.0\n",
      "665\n",
      "0.0\n",
      "666\n",
      "0.0\n",
      "667\n",
      "0.0\n",
      "668\n",
      "0.0\n",
      "669\n",
      "0.0\n",
      "670\n",
      "0.0\n",
      "671\n",
      "0.0\n",
      "672\n",
      "0.07142857142857142\n",
      "673\n",
      "0.03225806451612903\n",
      "674\n",
      "0.0\n",
      "675\n",
      "0.0\n",
      "676\n",
      "0.09523809523809523\n",
      "677\n",
      "0.2\n",
      "678\n",
      "0.0\n",
      "679\n",
      "0.125\n",
      "680\n",
      "0.14893617021276595\n",
      "681\n",
      "0.0\n",
      "682\n",
      "0.11764705882352941\n",
      "683\n",
      "0.4864864864864865\n",
      "684\n",
      "0.0\n",
      "685\n",
      "0.0\n",
      "686\n",
      "0.0\n",
      "687\n",
      "0.041666666666666664\n",
      "688\n",
      "0.0\n",
      "689\n",
      "0.10638297872340426\n",
      "690\n",
      "0.2\n",
      "691\n",
      "0.13043478260869565\n",
      "692\n",
      "0.0\n",
      "693\n",
      "0.0\n",
      "694\n",
      "0.34210526315789475\n",
      "695\n",
      "0.0\n",
      "696\n",
      "0.0\n",
      "697\n",
      "0.11764705882352941\n",
      "698\n",
      "0.5\n",
      "699\n",
      "0.0\n",
      "700\n",
      "0.14285714285714285\n",
      "701\n",
      "0.0\n",
      "702\n",
      "0.0\n",
      "703\n",
      "0.02564102564102564\n",
      "704\n",
      "0.8863636363636364\n",
      "705\n",
      "0.0\n",
      "706\n",
      "0.0\n",
      "707\n",
      "0.0\n",
      "708\n",
      "0.0\n",
      "709\n",
      "0.0\n",
      "710\n",
      "0.0\n",
      "711\n",
      "0.0\n",
      "712\n",
      "0.16666666666666666\n",
      "713\n",
      "0.0625\n",
      "714\n",
      "0.09090909090909091\n",
      "715\n",
      "0.0\n",
      "716\n",
      "0.14285714285714285\n",
      "717\n",
      "0.18181818181818182\n",
      "718\n",
      "0.0\n",
      "719\n",
      "0.0\n",
      "720\n",
      "0.0\n",
      "721\n",
      "0.0\n",
      "722\n",
      "0.07692307692307693\n",
      "723\n",
      "0.0\n",
      "724\n",
      "0.0\n",
      "725\n",
      "0.0\n",
      "726\n",
      "0.0\n",
      "727\n",
      "0.09090909090909091\n",
      "728\n",
      "0.1111111111111111\n",
      "729\n",
      "0.15\n",
      "730\n",
      "0.23076923076923078\n",
      "731\n",
      "0.05\n",
      "732\n",
      "0.0\n",
      "733\n",
      "0.16666666666666666\n",
      "734\n",
      "0.34782608695652173\n",
      "735\n",
      "0.0\n",
      "736\n",
      "0.2\n",
      "737\n",
      "0.0\n",
      "738\n",
      "0.0\n",
      "739\n",
      "0.0\n",
      "740\n",
      "0.07692307692307693\n",
      "741\n",
      "0.125\n",
      "742\n",
      "0.0\n",
      "743\n",
      "0.16326530612244897\n",
      "744\n",
      "0.0\n",
      "745\n",
      "0.0\n",
      "746\n",
      "0.0\n",
      "747\n",
      "0.2\n",
      "748\n",
      "0.17647058823529413\n",
      "749\n",
      "0.0\n",
      "750\n",
      "0.0\n",
      "751\n",
      "0.03333333333333333\n",
      "752\n",
      "0.1111111111111111\n",
      "753\n",
      "0.0\n",
      "754\n",
      "0.11764705882352941\n",
      "755\n",
      "0.1\n",
      "756\n",
      "0.0\n",
      "757\n",
      "0.0\n",
      "758\n",
      "0.0\n",
      "759\n",
      "0.0\n",
      "760\n",
      "0.09090909090909091\n",
      "761\n",
      "0.14285714285714285\n",
      "762\n",
      "0.0\n",
      "763\n",
      "0.14285714285714285\n",
      "764\n",
      "0.3333333333333333\n",
      "765\n",
      "0.25\n",
      "766\n",
      "0.29411764705882354\n",
      "767\n",
      "0.10344827586206896\n",
      "768\n",
      "0.07142857142857142\n",
      "769\n",
      "0.0\n",
      "770\n",
      "0.0\n",
      "771\n",
      "0.0\n",
      "772\n",
      "0.0\n",
      "773\n",
      "0.16\n",
      "774\n",
      "0.0\n",
      "775\n",
      "0.0\n",
      "776\n",
      "0.0\n",
      "777\n",
      "0.0\n",
      "778\n",
      "0.0\n",
      "779\n",
      "0.11764705882352941\n",
      "780\n",
      "0.0\n",
      "781\n",
      "0.0\n",
      "782\n",
      "0.23404255319148937\n",
      "783\n",
      "0.0\n",
      "784\n",
      "0.0\n",
      "785\n",
      "0.0\n",
      "786\n",
      "0.0\n",
      "787\n",
      "0.0\n",
      "788\n",
      "0.16666666666666666\n",
      "789\n",
      "0.0\n",
      "790\n",
      "0.0\n",
      "791\n",
      "0.0\n",
      "792\n",
      "0.0\n",
      "793\n",
      "0.1111111111111111\n",
      "794\n",
      "0.0\n",
      "795\n",
      "0.0\n",
      "796\n",
      "0.1111111111111111\n",
      "797\n",
      "0.0\n",
      "798\n",
      "0.0\n",
      "799\n",
      "0.0\n",
      "800\n",
      "0.0\n",
      "801\n",
      "0.0\n",
      "802\n",
      "0.2222222222222222\n",
      "803\n",
      "0.4\n",
      "804\n",
      "0.29411764705882354\n",
      "805\n",
      "0.0\n",
      "806\n",
      "0.07142857142857142\n",
      "807\n",
      "0.13333333333333333\n",
      "808\n",
      "0.13636363636363635\n",
      "809\n",
      "0.0\n",
      "810\n",
      "0.0\n",
      "811\n",
      "0.10869565217391304\n",
      "812\n",
      "0.13636363636363635\n",
      "813\n",
      "0.25\n",
      "814\n",
      "0.0\n",
      "815\n",
      "0.10810810810810811\n",
      "816\n",
      "0.0\n",
      "817\n",
      "0.2\n",
      "818\n",
      "0.0\n",
      "819\n",
      "0.0\n",
      "820\n",
      "0.0\n",
      "821\n",
      "0.0\n",
      "822\n",
      "0.09090909090909091\n",
      "823\n",
      "0.041666666666666664\n",
      "824\n",
      "0.0\n",
      "825\n",
      "0.13333333333333333\n",
      "826\n",
      "0.0\n",
      "827\n",
      "0.0\n",
      "828\n",
      "0.0\n",
      "829\n",
      "0.0\n",
      "830\n",
      "0.0\n",
      "831\n",
      "0.0\n",
      "832\n",
      "0.0\n",
      "833\n",
      "0.12\n",
      "834\n",
      "0.6666666666666666\n",
      "835\n",
      "0.2682926829268293\n",
      "836\n",
      "0.0\n",
      "837\n",
      "0.0\n",
      "838\n",
      "0.0\n",
      "839\n",
      "0.15384615384615385\n",
      "840\n",
      "0.08695652173913043\n",
      "841\n",
      "0.0\n",
      "842\n",
      "0.25925925925925924\n",
      "843\n",
      "0.3181818181818182\n",
      "844\n",
      "0.1\n",
      "845\n",
      "0.0\n",
      "846\n",
      "0.2\n",
      "847\n",
      "0.16666666666666666\n",
      "848\n",
      "0.0\n",
      "849\n",
      "0.0\n",
      "850\n",
      "0.1\n",
      "851\n",
      "0.0\n",
      "852\n",
      "0.0\n",
      "853\n",
      "0.18181818181818182\n",
      "854\n",
      "0.11627906976744186\n",
      "855\n",
      "0.07142857142857142\n",
      "856\n",
      "0.0\n",
      "857\n",
      "0.07692307692307693\n",
      "858\n",
      "0.05263157894736842\n",
      "859\n",
      "0.11428571428571428\n",
      "860\n",
      "0.0\n",
      "861\n",
      "0.4166666666666667\n",
      "862\n",
      "0.0\n",
      "863\n",
      "0.0\n",
      "864\n",
      "0.0\n",
      "865\n",
      "0.0\n",
      "866\n",
      "0.05555555555555555\n",
      "867\n",
      "0.1\n",
      "868\n",
      "0.0\n",
      "869\n",
      "0.0\n",
      "870\n",
      "0.0\n",
      "871\n",
      "0.0\n",
      "872\n",
      "0.0\n",
      "873\n",
      "0.0\n",
      "874\n",
      "0.038461538461538464\n",
      "875\n",
      "0.0\n",
      "876\n",
      "0.07692307692307693\n",
      "877\n",
      "0.0\n",
      "878\n",
      "0.0\n",
      "879\n",
      "0.3125\n",
      "880\n",
      "0.0\n",
      "881\n",
      "0.0\n",
      "882\n",
      "0.0\n",
      "883\n",
      "0.125\n",
      "884\n",
      "0.125\n",
      "885\n",
      "0.09090909090909091\n",
      "886\n",
      "0.08888888888888889\n",
      "887\n",
      "0.07692307692307693\n",
      "888\n",
      "0.25\n",
      "889\n",
      "0.0\n",
      "890\n",
      "0.0\n",
      "891\n",
      "0.0\n",
      "892\n",
      "0.0\n",
      "893\n",
      "0.4444444444444444\n",
      "894\n",
      "0.0\n",
      "895\n",
      "0.037037037037037035\n",
      "896\n",
      "0.43902439024390244\n",
      "897\n",
      "0.0\n",
      "898\n",
      "0.0\n",
      "899\n",
      "0.1\n",
      "900\n",
      "0.0\n",
      "901\n",
      "0.0\n",
      "902\n",
      "0.0\n",
      "903\n",
      "0.07692307692307693\n",
      "904\n",
      "0.0\n",
      "905\n",
      "0.0\n",
      "906\n",
      "0.0\n",
      "907\n",
      "0.22727272727272727\n",
      "908\n",
      "0.1\n",
      "909\n",
      "0.0\n",
      "910\n",
      "0.35294117647058826\n",
      "911\n",
      "0.125\n",
      "912\n",
      "0.16666666666666666\n",
      "913\n",
      "0.11538461538461539\n",
      "914\n",
      "0.0\n",
      "915\n",
      "0.0\n",
      "916\n",
      "0.11764705882352941\n",
      "917\n",
      "0.0\n",
      "918\n",
      "0.0\n",
      "919\n",
      "0.1111111111111111\n",
      "920\n",
      "0.034482758620689655\n",
      "921\n",
      "0.13636363636363635\n",
      "922\n",
      "0.0\n",
      "923\n",
      "0.0\n",
      "924\n",
      "0.0\n",
      "925\n",
      "0.0\n",
      "926\n",
      "0.0\n",
      "927\n",
      "0.07692307692307693\n",
      "928\n",
      "0.0\n",
      "929\n",
      "0.0\n",
      "930\n",
      "0.125\n",
      "931\n",
      "0.1\n",
      "932\n",
      "0.0\n",
      "933\n",
      "0.0\n",
      "934\n",
      "0.14285714285714285\n",
      "935\n",
      "0.125\n",
      "936\n",
      "0.2857142857142857\n",
      "937\n",
      "0.2\n",
      "938\n",
      "0.0\n",
      "939\n",
      "0.14285714285714285\n",
      "940\n",
      "0.1111111111111111\n",
      "941\n",
      "0.07142857142857142\n",
      "942\n",
      "0.2222222222222222\n",
      "943\n",
      "0.0\n",
      "944\n",
      "0.16666666666666666\n",
      "945\n",
      "0.0\n",
      "946\n",
      "0.17391304347826086\n",
      "947\n",
      "0.0\n",
      "948\n",
      "0.0\n",
      "949\n",
      "0.21428571428571427\n",
      "950\n",
      "0.0\n",
      "951\n",
      "0.0\n",
      "952\n",
      "0.5\n",
      "953\n",
      "0.0\n",
      "954\n",
      "0.5\n",
      "955\n",
      "0.18181818181818182\n",
      "956\n",
      "0.06666666666666667\n",
      "957\n",
      "0.0\n",
      "958\n",
      "0.3333333333333333\n",
      "959\n",
      "0.25\n",
      "960\n",
      "0.0\n",
      "961\n",
      "0.0\n",
      "962\n",
      "0.0625\n",
      "963\n",
      "0.0\n",
      "964\n",
      "0.1111111111111111\n",
      "965\n",
      "0.10526315789473684\n",
      "966\n",
      "0.0\n",
      "967\n",
      "0.0\n",
      "968\n",
      "0.03125\n",
      "969\n",
      "0.0\n",
      "970\n",
      "0.06666666666666667\n",
      "971\n",
      "0.2727272727272727\n",
      "972\n",
      "0.11538461538461539\n",
      "973\n",
      "0.0\n",
      "974\n",
      "0.07142857142857142\n",
      "975\n",
      "0.0\n",
      "976\n",
      "0.0\n",
      "977\n",
      "0.2692307692307692\n",
      "978\n",
      "0.2\n",
      "979\n",
      "0.29545454545454547\n",
      "980\n",
      "0.2619047619047619\n",
      "981\n",
      "0.0\n",
      "982\n",
      "0.09090909090909091\n",
      "983\n",
      "0.1\n",
      "984\n",
      "0.1\n",
      "985\n",
      "0.13333333333333333\n",
      "986\n",
      "0.0\n",
      "987\n",
      "0.0\n",
      "988\n",
      "0.0\n",
      "989\n",
      "0.0\n",
      "990\n",
      "0.0\n",
      "991\n",
      "0.0\n",
      "992\n",
      "0.04\n",
      "993\n",
      "0.0\n",
      "994\n",
      "0.0\n",
      "995\n",
      "0.125\n",
      "996\n",
      "0.0\n",
      "997\n",
      "0.08695652173913043\n",
      "998\n",
      "0.19047619047619047\n",
      "999\n",
      "0.0\n"
     ]
    }
   ],
   "source": [
    "#no. 600-999 test playlists\n",
    "scores_lr4 = []\n",
    "for i in range(600,1000):\n",
    "    print(i)\n",
    "    test_playlist = dic_test[i]\n",
    "    lr = KNeighborsRegressor(n_neighbors=3)\n",
    "    score = test_model_performance(test_playlist, dic, 0.2, lr, 20, 20)\n",
    "    print(score)\n",
    "    scores_lr4.append(score)"
   ]
  },
  {
   "cell_type": "code",
   "execution_count": 203,
   "metadata": {},
   "outputs": [
    {
     "data": {
      "text/plain": [
       "0.08047185352505264"
      ]
     },
     "execution_count": 203,
     "metadata": {},
     "output_type": "execute_result"
    }
   ],
   "source": [
    "np.mean(scores_lr4)"
   ]
  },
  {
   "cell_type": "markdown",
   "metadata": {},
   "source": [
    "### 2.4 The first 100 Model Performance -- Comparison between Two Suggested Models\n",
    "\n",
    "The first model is Nearest Neighbor with song features KNN and the second model is Nearest Neighbor with song features ridge regression CV. Since running a whole 1000 playlist test takes a lot of time. This part is to verify that the second model doesn't perform as well as our previous model."
   ]
  },
  {
   "cell_type": "code",
   "execution_count": 208,
   "metadata": {},
   "outputs": [
    {
     "name": "stdout",
     "output_type": "stream",
     "text": [
      "0\n"
     ]
    },
    {
     "name": "stderr",
     "output_type": "stream",
     "text": [
      "//anaconda3/lib/python3.7/site-packages/sklearn/model_selection/_search.py:813: DeprecationWarning: The default of the `iid` parameter will change from True to False in version 0.22 and will be removed in 0.24. This will change numeric results when test-set sizes are unequal.\n",
      "  DeprecationWarning)\n"
     ]
    },
    {
     "name": "stdout",
     "output_type": "stream",
     "text": [
      "0.0 0.0\n",
      "1\n"
     ]
    },
    {
     "name": "stderr",
     "output_type": "stream",
     "text": [
      "//anaconda3/lib/python3.7/site-packages/sklearn/model_selection/_search.py:813: DeprecationWarning: The default of the `iid` parameter will change from True to False in version 0.22 and will be removed in 0.24. This will change numeric results when test-set sizes are unequal.\n",
      "  DeprecationWarning)\n"
     ]
    },
    {
     "name": "stdout",
     "output_type": "stream",
     "text": [
      "0.0 0.0\n",
      "2\n"
     ]
    },
    {
     "name": "stderr",
     "output_type": "stream",
     "text": [
      "//anaconda3/lib/python3.7/site-packages/sklearn/model_selection/_search.py:813: DeprecationWarning: The default of the `iid` parameter will change from True to False in version 0.22 and will be removed in 0.24. This will change numeric results when test-set sizes are unequal.\n",
      "  DeprecationWarning)\n"
     ]
    },
    {
     "name": "stdout",
     "output_type": "stream",
     "text": [
      "0.16666666666666666 0.0\n",
      "3\n"
     ]
    },
    {
     "name": "stderr",
     "output_type": "stream",
     "text": [
      "//anaconda3/lib/python3.7/site-packages/sklearn/model_selection/_search.py:813: DeprecationWarning: The default of the `iid` parameter will change from True to False in version 0.22 and will be removed in 0.24. This will change numeric results when test-set sizes are unequal.\n",
      "  DeprecationWarning)\n"
     ]
    },
    {
     "name": "stdout",
     "output_type": "stream",
     "text": [
      "0.0 0.0\n",
      "4\n",
      "0.0 0.0\n",
      "5\n"
     ]
    },
    {
     "name": "stderr",
     "output_type": "stream",
     "text": [
      "//anaconda3/lib/python3.7/site-packages/sklearn/model_selection/_search.py:813: DeprecationWarning: The default of the `iid` parameter will change from True to False in version 0.22 and will be removed in 0.24. This will change numeric results when test-set sizes are unequal.\n",
      "  DeprecationWarning)\n"
     ]
    },
    {
     "name": "stdout",
     "output_type": "stream",
     "text": [
      "0.0 0.0\n",
      "6\n"
     ]
    },
    {
     "name": "stderr",
     "output_type": "stream",
     "text": [
      "//anaconda3/lib/python3.7/site-packages/sklearn/model_selection/_search.py:813: DeprecationWarning: The default of the `iid` parameter will change from True to False in version 0.22 and will be removed in 0.24. This will change numeric results when test-set sizes are unequal.\n",
      "  DeprecationWarning)\n"
     ]
    },
    {
     "name": "stdout",
     "output_type": "stream",
     "text": [
      "0.0 0.0\n",
      "7\n",
      "0.1 0.0\n",
      "8\n"
     ]
    },
    {
     "name": "stderr",
     "output_type": "stream",
     "text": [
      "//anaconda3/lib/python3.7/site-packages/sklearn/model_selection/_search.py:813: DeprecationWarning: The default of the `iid` parameter will change from True to False in version 0.22 and will be removed in 0.24. This will change numeric results when test-set sizes are unequal.\n",
      "  DeprecationWarning)\n"
     ]
    },
    {
     "name": "stdout",
     "output_type": "stream",
     "text": [
      "0.0 0.0\n",
      "9\n"
     ]
    },
    {
     "name": "stderr",
     "output_type": "stream",
     "text": [
      "//anaconda3/lib/python3.7/site-packages/sklearn/model_selection/_search.py:813: DeprecationWarning: The default of the `iid` parameter will change from True to False in version 0.22 and will be removed in 0.24. This will change numeric results when test-set sizes are unequal.\n",
      "  DeprecationWarning)\n"
     ]
    },
    {
     "name": "stdout",
     "output_type": "stream",
     "text": [
      "0.0 0.0\n",
      "10\n",
      "0.14285714285714285 0.0\n",
      "11\n",
      "0.0 0.0\n",
      "12\n"
     ]
    },
    {
     "name": "stderr",
     "output_type": "stream",
     "text": [
      "//anaconda3/lib/python3.7/site-packages/sklearn/model_selection/_search.py:813: DeprecationWarning: The default of the `iid` parameter will change from True to False in version 0.22 and will be removed in 0.24. This will change numeric results when test-set sizes are unequal.\n",
      "  DeprecationWarning)\n"
     ]
    },
    {
     "name": "stdout",
     "output_type": "stream",
     "text": [
      "0.0 0.0\n",
      "13\n"
     ]
    },
    {
     "name": "stderr",
     "output_type": "stream",
     "text": [
      "//anaconda3/lib/python3.7/site-packages/sklearn/model_selection/_search.py:813: DeprecationWarning: The default of the `iid` parameter will change from True to False in version 0.22 and will be removed in 0.24. This will change numeric results when test-set sizes are unequal.\n",
      "  DeprecationWarning)\n"
     ]
    },
    {
     "name": "stdout",
     "output_type": "stream",
     "text": [
      "0.0 0.0\n",
      "14\n",
      "0.5 0.15\n",
      "15\n"
     ]
    },
    {
     "name": "stderr",
     "output_type": "stream",
     "text": [
      "//anaconda3/lib/python3.7/site-packages/sklearn/model_selection/_search.py:813: DeprecationWarning: The default of the `iid` parameter will change from True to False in version 0.22 and will be removed in 0.24. This will change numeric results when test-set sizes are unequal.\n",
      "  DeprecationWarning)\n"
     ]
    },
    {
     "name": "stdout",
     "output_type": "stream",
     "text": [
      "0.0 0.0\n",
      "16\n"
     ]
    },
    {
     "name": "stderr",
     "output_type": "stream",
     "text": [
      "//anaconda3/lib/python3.7/site-packages/sklearn/model_selection/_search.py:813: DeprecationWarning: The default of the `iid` parameter will change from True to False in version 0.22 and will be removed in 0.24. This will change numeric results when test-set sizes are unequal.\n",
      "  DeprecationWarning)\n"
     ]
    },
    {
     "name": "stdout",
     "output_type": "stream",
     "text": [
      "0.047619047619047616 0.0\n",
      "17\n"
     ]
    },
    {
     "name": "stderr",
     "output_type": "stream",
     "text": [
      "//anaconda3/lib/python3.7/site-packages/sklearn/model_selection/_search.py:813: DeprecationWarning: The default of the `iid` parameter will change from True to False in version 0.22 and will be removed in 0.24. This will change numeric results when test-set sizes are unequal.\n",
      "  DeprecationWarning)\n"
     ]
    },
    {
     "name": "stdout",
     "output_type": "stream",
     "text": [
      "0.06666666666666667 0.13333333333333333\n",
      "18\n",
      "0.15384615384615385 0.0\n",
      "19\n",
      "0.0 0.0\n",
      "20\n"
     ]
    },
    {
     "name": "stderr",
     "output_type": "stream",
     "text": [
      "//anaconda3/lib/python3.7/site-packages/sklearn/model_selection/_search.py:813: DeprecationWarning: The default of the `iid` parameter will change from True to False in version 0.22 and will be removed in 0.24. This will change numeric results when test-set sizes are unequal.\n",
      "  DeprecationWarning)\n"
     ]
    },
    {
     "name": "stdout",
     "output_type": "stream",
     "text": [
      "0.5 0.0\n",
      "21\n"
     ]
    },
    {
     "name": "stderr",
     "output_type": "stream",
     "text": [
      "//anaconda3/lib/python3.7/site-packages/sklearn/model_selection/_search.py:813: DeprecationWarning: The default of the `iid` parameter will change from True to False in version 0.22 and will be removed in 0.24. This will change numeric results when test-set sizes are unequal.\n",
      "  DeprecationWarning)\n"
     ]
    },
    {
     "name": "stdout",
     "output_type": "stream",
     "text": [
      "0.0 0.0\n",
      "22\n"
     ]
    },
    {
     "name": "stderr",
     "output_type": "stream",
     "text": [
      "//anaconda3/lib/python3.7/site-packages/sklearn/model_selection/_search.py:813: DeprecationWarning: The default of the `iid` parameter will change from True to False in version 0.22 and will be removed in 0.24. This will change numeric results when test-set sizes are unequal.\n",
      "  DeprecationWarning)\n"
     ]
    },
    {
     "name": "stdout",
     "output_type": "stream",
     "text": [
      "0.0 0.0\n",
      "23\n"
     ]
    },
    {
     "name": "stderr",
     "output_type": "stream",
     "text": [
      "//anaconda3/lib/python3.7/site-packages/sklearn/model_selection/_search.py:813: DeprecationWarning: The default of the `iid` parameter will change from True to False in version 0.22 and will be removed in 0.24. This will change numeric results when test-set sizes are unequal.\n",
      "  DeprecationWarning)\n"
     ]
    },
    {
     "name": "stdout",
     "output_type": "stream",
     "text": [
      "0.25 0.0\n",
      "24\n"
     ]
    },
    {
     "name": "stderr",
     "output_type": "stream",
     "text": [
      "//anaconda3/lib/python3.7/site-packages/sklearn/model_selection/_search.py:813: DeprecationWarning: The default of the `iid` parameter will change from True to False in version 0.22 and will be removed in 0.24. This will change numeric results when test-set sizes are unequal.\n",
      "  DeprecationWarning)\n"
     ]
    },
    {
     "name": "stdout",
     "output_type": "stream",
     "text": [
      "0.0 0.0\n",
      "25\n"
     ]
    },
    {
     "name": "stderr",
     "output_type": "stream",
     "text": [
      "//anaconda3/lib/python3.7/site-packages/sklearn/model_selection/_search.py:813: DeprecationWarning: The default of the `iid` parameter will change from True to False in version 0.22 and will be removed in 0.24. This will change numeric results when test-set sizes are unequal.\n",
      "  DeprecationWarning)\n"
     ]
    },
    {
     "name": "stdout",
     "output_type": "stream",
     "text": [
      "0.0 0.0\n",
      "26\n"
     ]
    },
    {
     "name": "stderr",
     "output_type": "stream",
     "text": [
      "//anaconda3/lib/python3.7/site-packages/sklearn/model_selection/_search.py:813: DeprecationWarning: The default of the `iid` parameter will change from True to False in version 0.22 and will be removed in 0.24. This will change numeric results when test-set sizes are unequal.\n",
      "  DeprecationWarning)\n"
     ]
    },
    {
     "name": "stdout",
     "output_type": "stream",
     "text": [
      "0.0 0.0\n",
      "27\n"
     ]
    },
    {
     "name": "stderr",
     "output_type": "stream",
     "text": [
      "//anaconda3/lib/python3.7/site-packages/sklearn/model_selection/_search.py:813: DeprecationWarning: The default of the `iid` parameter will change from True to False in version 0.22 and will be removed in 0.24. This will change numeric results when test-set sizes are unequal.\n",
      "  DeprecationWarning)\n"
     ]
    },
    {
     "name": "stdout",
     "output_type": "stream",
     "text": [
      "0.5 0.0\n",
      "28\n",
      "0.125 0.0\n",
      "29\n"
     ]
    },
    {
     "name": "stderr",
     "output_type": "stream",
     "text": [
      "//anaconda3/lib/python3.7/site-packages/sklearn/model_selection/_search.py:813: DeprecationWarning: The default of the `iid` parameter will change from True to False in version 0.22 and will be removed in 0.24. This will change numeric results when test-set sizes are unequal.\n",
      "  DeprecationWarning)\n"
     ]
    },
    {
     "name": "stdout",
     "output_type": "stream",
     "text": [
      "0.375 0.375\n",
      "30\n"
     ]
    },
    {
     "name": "stderr",
     "output_type": "stream",
     "text": [
      "//anaconda3/lib/python3.7/site-packages/sklearn/model_selection/_search.py:813: DeprecationWarning: The default of the `iid` parameter will change from True to False in version 0.22 and will be removed in 0.24. This will change numeric results when test-set sizes are unequal.\n",
      "  DeprecationWarning)\n"
     ]
    },
    {
     "name": "stdout",
     "output_type": "stream",
     "text": [
      "0.0 0.0\n",
      "31\n"
     ]
    },
    {
     "name": "stderr",
     "output_type": "stream",
     "text": [
      "//anaconda3/lib/python3.7/site-packages/sklearn/model_selection/_search.py:813: DeprecationWarning: The default of the `iid` parameter will change from True to False in version 0.22 and will be removed in 0.24. This will change numeric results when test-set sizes are unequal.\n",
      "  DeprecationWarning)\n"
     ]
    },
    {
     "name": "stdout",
     "output_type": "stream",
     "text": [
      "0.15789473684210525 0.21052631578947367\n",
      "32\n",
      "0.0 0.0\n",
      "33\n",
      "0.0 0.0\n",
      "34\n",
      "0.0625 0.0\n",
      "35\n"
     ]
    },
    {
     "name": "stderr",
     "output_type": "stream",
     "text": [
      "//anaconda3/lib/python3.7/site-packages/sklearn/model_selection/_search.py:813: DeprecationWarning: The default of the `iid` parameter will change from True to False in version 0.22 and will be removed in 0.24. This will change numeric results when test-set sizes are unequal.\n",
      "  DeprecationWarning)\n"
     ]
    },
    {
     "name": "stdout",
     "output_type": "stream",
     "text": [
      "0.21428571428571427 0.14285714285714285\n",
      "36\n",
      "0.0 0.0\n",
      "37\n"
     ]
    },
    {
     "name": "stderr",
     "output_type": "stream",
     "text": [
      "//anaconda3/lib/python3.7/site-packages/sklearn/model_selection/_search.py:813: DeprecationWarning: The default of the `iid` parameter will change from True to False in version 0.22 and will be removed in 0.24. This will change numeric results when test-set sizes are unequal.\n",
      "  DeprecationWarning)\n"
     ]
    },
    {
     "name": "stdout",
     "output_type": "stream",
     "text": [
      "0.0 0.0\n",
      "38\n",
      "0.0 0.0\n",
      "39\n"
     ]
    },
    {
     "name": "stderr",
     "output_type": "stream",
     "text": [
      "//anaconda3/lib/python3.7/site-packages/sklearn/model_selection/_search.py:813: DeprecationWarning: The default of the `iid` parameter will change from True to False in version 0.22 and will be removed in 0.24. This will change numeric results when test-set sizes are unequal.\n",
      "  DeprecationWarning)\n"
     ]
    },
    {
     "name": "stdout",
     "output_type": "stream",
     "text": [
      "0.0 0.18181818181818182\n",
      "40\n",
      "0.17647058823529413 0.11764705882352941\n",
      "41\n",
      "0.12195121951219512 0.024390243902439025\n",
      "42\n"
     ]
    },
    {
     "name": "stderr",
     "output_type": "stream",
     "text": [
      "//anaconda3/lib/python3.7/site-packages/sklearn/model_selection/_search.py:813: DeprecationWarning: The default of the `iid` parameter will change from True to False in version 0.22 and will be removed in 0.24. This will change numeric results when test-set sizes are unequal.\n",
      "  DeprecationWarning)\n"
     ]
    },
    {
     "name": "stdout",
     "output_type": "stream",
     "text": [
      "0.0 0.0\n",
      "43\n",
      "0.0 0.0\n",
      "44\n"
     ]
    },
    {
     "name": "stderr",
     "output_type": "stream",
     "text": [
      "//anaconda3/lib/python3.7/site-packages/sklearn/model_selection/_search.py:813: DeprecationWarning: The default of the `iid` parameter will change from True to False in version 0.22 and will be removed in 0.24. This will change numeric results when test-set sizes are unequal.\n",
      "  DeprecationWarning)\n"
     ]
    },
    {
     "name": "stdout",
     "output_type": "stream",
     "text": [
      "0.0 0.0\n",
      "45\n"
     ]
    },
    {
     "name": "stderr",
     "output_type": "stream",
     "text": [
      "//anaconda3/lib/python3.7/site-packages/sklearn/model_selection/_search.py:813: DeprecationWarning: The default of the `iid` parameter will change from True to False in version 0.22 and will be removed in 0.24. This will change numeric results when test-set sizes are unequal.\n",
      "  DeprecationWarning)\n"
     ]
    },
    {
     "name": "stdout",
     "output_type": "stream",
     "text": [
      "0.13333333333333333 0.0\n",
      "46\n"
     ]
    },
    {
     "name": "stderr",
     "output_type": "stream",
     "text": [
      "//anaconda3/lib/python3.7/site-packages/sklearn/model_selection/_search.py:813: DeprecationWarning: The default of the `iid` parameter will change from True to False in version 0.22 and will be removed in 0.24. This will change numeric results when test-set sizes are unequal.\n",
      "  DeprecationWarning)\n"
     ]
    },
    {
     "name": "stdout",
     "output_type": "stream",
     "text": [
      "0.0 0.0\n",
      "47\n"
     ]
    },
    {
     "name": "stderr",
     "output_type": "stream",
     "text": [
      "//anaconda3/lib/python3.7/site-packages/sklearn/model_selection/_search.py:813: DeprecationWarning: The default of the `iid` parameter will change from True to False in version 0.22 and will be removed in 0.24. This will change numeric results when test-set sizes are unequal.\n",
      "  DeprecationWarning)\n"
     ]
    },
    {
     "name": "stdout",
     "output_type": "stream",
     "text": [
      "0.0 0.0\n",
      "48\n",
      "0.0 0.0\n",
      "49\n"
     ]
    },
    {
     "name": "stderr",
     "output_type": "stream",
     "text": [
      "//anaconda3/lib/python3.7/site-packages/sklearn/model_selection/_search.py:813: DeprecationWarning: The default of the `iid` parameter will change from True to False in version 0.22 and will be removed in 0.24. This will change numeric results when test-set sizes are unequal.\n",
      "  DeprecationWarning)\n"
     ]
    },
    {
     "name": "stdout",
     "output_type": "stream",
     "text": [
      "0.3333333333333333 0.1111111111111111\n",
      "50\n"
     ]
    },
    {
     "name": "stderr",
     "output_type": "stream",
     "text": [
      "//anaconda3/lib/python3.7/site-packages/sklearn/model_selection/_search.py:813: DeprecationWarning: The default of the `iid` parameter will change from True to False in version 0.22 and will be removed in 0.24. This will change numeric results when test-set sizes are unequal.\n",
      "  DeprecationWarning)\n"
     ]
    },
    {
     "name": "stdout",
     "output_type": "stream",
     "text": [
      "0.09090909090909091 0.0\n",
      "51\n"
     ]
    },
    {
     "name": "stderr",
     "output_type": "stream",
     "text": [
      "//anaconda3/lib/python3.7/site-packages/sklearn/model_selection/_search.py:813: DeprecationWarning: The default of the `iid` parameter will change from True to False in version 0.22 and will be removed in 0.24. This will change numeric results when test-set sizes are unequal.\n",
      "  DeprecationWarning)\n"
     ]
    },
    {
     "name": "stdout",
     "output_type": "stream",
     "text": [
      "0.0 0.0\n",
      "52\n"
     ]
    },
    {
     "name": "stderr",
     "output_type": "stream",
     "text": [
      "//anaconda3/lib/python3.7/site-packages/sklearn/model_selection/_search.py:813: DeprecationWarning: The default of the `iid` parameter will change from True to False in version 0.22 and will be removed in 0.24. This will change numeric results when test-set sizes are unequal.\n",
      "  DeprecationWarning)\n"
     ]
    },
    {
     "name": "stdout",
     "output_type": "stream",
     "text": [
      "0.0 0.0\n",
      "53\n",
      "0.19047619047619047 0.0\n",
      "54\n"
     ]
    },
    {
     "name": "stderr",
     "output_type": "stream",
     "text": [
      "//anaconda3/lib/python3.7/site-packages/sklearn/model_selection/_search.py:813: DeprecationWarning: The default of the `iid` parameter will change from True to False in version 0.22 and will be removed in 0.24. This will change numeric results when test-set sizes are unequal.\n",
      "  DeprecationWarning)\n"
     ]
    },
    {
     "name": "stdout",
     "output_type": "stream",
     "text": [
      "0.0 0.0\n",
      "55\n"
     ]
    },
    {
     "name": "stderr",
     "output_type": "stream",
     "text": [
      "//anaconda3/lib/python3.7/site-packages/sklearn/model_selection/_search.py:813: DeprecationWarning: The default of the `iid` parameter will change from True to False in version 0.22 and will be removed in 0.24. This will change numeric results when test-set sizes are unequal.\n",
      "  DeprecationWarning)\n"
     ]
    },
    {
     "name": "stdout",
     "output_type": "stream",
     "text": [
      "0.16666666666666666 0.16666666666666666\n",
      "56\n",
      "0.0 0.0\n",
      "57\n",
      "0.0 0.0\n",
      "58\n",
      "0.0 0.0\n",
      "59\n"
     ]
    },
    {
     "name": "stderr",
     "output_type": "stream",
     "text": [
      "//anaconda3/lib/python3.7/site-packages/sklearn/model_selection/_search.py:813: DeprecationWarning: The default of the `iid` parameter will change from True to False in version 0.22 and will be removed in 0.24. This will change numeric results when test-set sizes are unequal.\n",
      "  DeprecationWarning)\n"
     ]
    },
    {
     "name": "stdout",
     "output_type": "stream",
     "text": [
      "0.07407407407407407 0.1111111111111111\n",
      "60\n",
      "0.0 0.0\n",
      "61\n",
      "0.0 0.0\n",
      "62\n"
     ]
    },
    {
     "name": "stderr",
     "output_type": "stream",
     "text": [
      "//anaconda3/lib/python3.7/site-packages/sklearn/model_selection/_search.py:813: DeprecationWarning: The default of the `iid` parameter will change from True to False in version 0.22 and will be removed in 0.24. This will change numeric results when test-set sizes are unequal.\n",
      "  DeprecationWarning)\n"
     ]
    },
    {
     "name": "stdout",
     "output_type": "stream",
     "text": [
      "0.3333333333333333 0.0\n",
      "63\n",
      "0.0 0.0\n",
      "64\n",
      "0.38095238095238093 0.19047619047619047\n",
      "65\n"
     ]
    },
    {
     "name": "stderr",
     "output_type": "stream",
     "text": [
      "//anaconda3/lib/python3.7/site-packages/sklearn/model_selection/_search.py:813: DeprecationWarning: The default of the `iid` parameter will change from True to False in version 0.22 and will be removed in 0.24. This will change numeric results when test-set sizes are unequal.\n",
      "  DeprecationWarning)\n"
     ]
    },
    {
     "name": "stdout",
     "output_type": "stream",
     "text": [
      "0.038461538461538464 0.0\n",
      "66\n"
     ]
    },
    {
     "name": "stderr",
     "output_type": "stream",
     "text": [
      "//anaconda3/lib/python3.7/site-packages/sklearn/model_selection/_search.py:813: DeprecationWarning: The default of the `iid` parameter will change from True to False in version 0.22 and will be removed in 0.24. This will change numeric results when test-set sizes are unequal.\n",
      "  DeprecationWarning)\n"
     ]
    },
    {
     "name": "stdout",
     "output_type": "stream",
     "text": [
      "0.0625 0.0\n",
      "67\n"
     ]
    },
    {
     "name": "stderr",
     "output_type": "stream",
     "text": [
      "//anaconda3/lib/python3.7/site-packages/sklearn/model_selection/_search.py:813: DeprecationWarning: The default of the `iid` parameter will change from True to False in version 0.22 and will be removed in 0.24. This will change numeric results when test-set sizes are unequal.\n",
      "  DeprecationWarning)\n"
     ]
    },
    {
     "name": "stdout",
     "output_type": "stream",
     "text": [
      "0.0 0.0\n",
      "68\n",
      "0.17647058823529413 0.08823529411764706\n",
      "69\n",
      "0.0 0.0\n",
      "70\n"
     ]
    },
    {
     "name": "stderr",
     "output_type": "stream",
     "text": [
      "//anaconda3/lib/python3.7/site-packages/sklearn/model_selection/_search.py:813: DeprecationWarning: The default of the `iid` parameter will change from True to False in version 0.22 and will be removed in 0.24. This will change numeric results when test-set sizes are unequal.\n",
      "  DeprecationWarning)\n"
     ]
    },
    {
     "name": "stdout",
     "output_type": "stream",
     "text": [
      "0.0 0.0\n",
      "71\n"
     ]
    },
    {
     "name": "stderr",
     "output_type": "stream",
     "text": [
      "//anaconda3/lib/python3.7/site-packages/sklearn/model_selection/_search.py:813: DeprecationWarning: The default of the `iid` parameter will change from True to False in version 0.22 and will be removed in 0.24. This will change numeric results when test-set sizes are unequal.\n",
      "  DeprecationWarning)\n"
     ]
    },
    {
     "name": "stdout",
     "output_type": "stream",
     "text": [
      "0.0 0.0\n",
      "72\n"
     ]
    },
    {
     "name": "stderr",
     "output_type": "stream",
     "text": [
      "//anaconda3/lib/python3.7/site-packages/sklearn/model_selection/_search.py:813: DeprecationWarning: The default of the `iid` parameter will change from True to False in version 0.22 and will be removed in 0.24. This will change numeric results when test-set sizes are unequal.\n",
      "  DeprecationWarning)\n"
     ]
    },
    {
     "name": "stdout",
     "output_type": "stream",
     "text": [
      "0.02564102564102564 0.0\n",
      "73\n"
     ]
    },
    {
     "name": "stderr",
     "output_type": "stream",
     "text": [
      "//anaconda3/lib/python3.7/site-packages/sklearn/model_selection/_search.py:813: DeprecationWarning: The default of the `iid` parameter will change from True to False in version 0.22 and will be removed in 0.24. This will change numeric results when test-set sizes are unequal.\n",
      "  DeprecationWarning)\n"
     ]
    },
    {
     "name": "stdout",
     "output_type": "stream",
     "text": [
      "0.5 0.0\n",
      "74\n"
     ]
    },
    {
     "name": "stderr",
     "output_type": "stream",
     "text": [
      "//anaconda3/lib/python3.7/site-packages/sklearn/model_selection/_search.py:813: DeprecationWarning: The default of the `iid` parameter will change from True to False in version 0.22 and will be removed in 0.24. This will change numeric results when test-set sizes are unequal.\n",
      "  DeprecationWarning)\n"
     ]
    },
    {
     "name": "stdout",
     "output_type": "stream",
     "text": [
      "0.0 0.0\n",
      "75\n",
      "0.0 0.0\n",
      "76\n",
      "0.0 0.0\n",
      "77\n"
     ]
    },
    {
     "name": "stderr",
     "output_type": "stream",
     "text": [
      "//anaconda3/lib/python3.7/site-packages/sklearn/model_selection/_search.py:813: DeprecationWarning: The default of the `iid` parameter will change from True to False in version 0.22 and will be removed in 0.24. This will change numeric results when test-set sizes are unequal.\n",
      "  DeprecationWarning)\n"
     ]
    },
    {
     "name": "stdout",
     "output_type": "stream",
     "text": [
      "0.0 0.0\n",
      "78\n"
     ]
    },
    {
     "name": "stderr",
     "output_type": "stream",
     "text": [
      "//anaconda3/lib/python3.7/site-packages/sklearn/model_selection/_search.py:813: DeprecationWarning: The default of the `iid` parameter will change from True to False in version 0.22 and will be removed in 0.24. This will change numeric results when test-set sizes are unequal.\n",
      "  DeprecationWarning)\n"
     ]
    },
    {
     "name": "stdout",
     "output_type": "stream",
     "text": [
      "0.0 0.3333333333333333\n",
      "79\n"
     ]
    },
    {
     "name": "stderr",
     "output_type": "stream",
     "text": [
      "//anaconda3/lib/python3.7/site-packages/sklearn/model_selection/_search.py:813: DeprecationWarning: The default of the `iid` parameter will change from True to False in version 0.22 and will be removed in 0.24. This will change numeric results when test-set sizes are unequal.\n",
      "  DeprecationWarning)\n"
     ]
    },
    {
     "name": "stdout",
     "output_type": "stream",
     "text": [
      "0.0 0.3333333333333333\n",
      "80\n",
      "0.07692307692307693 0.07692307692307693\n",
      "81\n",
      "0.08333333333333333 0.0\n",
      "82\n"
     ]
    },
    {
     "name": "stderr",
     "output_type": "stream",
     "text": [
      "//anaconda3/lib/python3.7/site-packages/sklearn/model_selection/_search.py:813: DeprecationWarning: The default of the `iid` parameter will change from True to False in version 0.22 and will be removed in 0.24. This will change numeric results when test-set sizes are unequal.\n",
      "  DeprecationWarning)\n"
     ]
    },
    {
     "name": "stdout",
     "output_type": "stream",
     "text": [
      "0.2 0.0\n",
      "83\n"
     ]
    },
    {
     "name": "stderr",
     "output_type": "stream",
     "text": [
      "//anaconda3/lib/python3.7/site-packages/sklearn/model_selection/_search.py:813: DeprecationWarning: The default of the `iid` parameter will change from True to False in version 0.22 and will be removed in 0.24. This will change numeric results when test-set sizes are unequal.\n",
      "  DeprecationWarning)\n"
     ]
    },
    {
     "name": "stdout",
     "output_type": "stream",
     "text": [
      "0.07692307692307693 0.0\n",
      "84\n"
     ]
    },
    {
     "name": "stderr",
     "output_type": "stream",
     "text": [
      "//anaconda3/lib/python3.7/site-packages/sklearn/model_selection/_search.py:813: DeprecationWarning: The default of the `iid` parameter will change from True to False in version 0.22 and will be removed in 0.24. This will change numeric results when test-set sizes are unequal.\n",
      "  DeprecationWarning)\n"
     ]
    },
    {
     "name": "stdout",
     "output_type": "stream",
     "text": [
      "0.0 0.0\n",
      "85\n",
      "0.0 0.0\n",
      "86\n",
      "0.0 0.0\n",
      "87\n"
     ]
    },
    {
     "name": "stderr",
     "output_type": "stream",
     "text": [
      "//anaconda3/lib/python3.7/site-packages/sklearn/model_selection/_search.py:813: DeprecationWarning: The default of the `iid` parameter will change from True to False in version 0.22 and will be removed in 0.24. This will change numeric results when test-set sizes are unequal.\n",
      "  DeprecationWarning)\n"
     ]
    },
    {
     "name": "stdout",
     "output_type": "stream",
     "text": [
      "0.0 0.0\n",
      "88\n"
     ]
    },
    {
     "name": "stderr",
     "output_type": "stream",
     "text": [
      "//anaconda3/lib/python3.7/site-packages/sklearn/model_selection/_search.py:813: DeprecationWarning: The default of the `iid` parameter will change from True to False in version 0.22 and will be removed in 0.24. This will change numeric results when test-set sizes are unequal.\n",
      "  DeprecationWarning)\n"
     ]
    },
    {
     "name": "stdout",
     "output_type": "stream",
     "text": [
      "0.23076923076923078 0.0\n",
      "89\n"
     ]
    },
    {
     "name": "stderr",
     "output_type": "stream",
     "text": [
      "//anaconda3/lib/python3.7/site-packages/sklearn/model_selection/_search.py:813: DeprecationWarning: The default of the `iid` parameter will change from True to False in version 0.22 and will be removed in 0.24. This will change numeric results when test-set sizes are unequal.\n",
      "  DeprecationWarning)\n"
     ]
    },
    {
     "name": "stdout",
     "output_type": "stream",
     "text": [
      "0.2222222222222222 0.05555555555555555\n",
      "90\n",
      "0.0 0.05\n",
      "91\n"
     ]
    },
    {
     "name": "stderr",
     "output_type": "stream",
     "text": [
      "//anaconda3/lib/python3.7/site-packages/sklearn/model_selection/_search.py:813: DeprecationWarning: The default of the `iid` parameter will change from True to False in version 0.22 and will be removed in 0.24. This will change numeric results when test-set sizes are unequal.\n",
      "  DeprecationWarning)\n"
     ]
    },
    {
     "name": "stdout",
     "output_type": "stream",
     "text": [
      "0.07692307692307693 0.07692307692307693\n",
      "92\n"
     ]
    },
    {
     "name": "stderr",
     "output_type": "stream",
     "text": [
      "//anaconda3/lib/python3.7/site-packages/sklearn/model_selection/_search.py:813: DeprecationWarning: The default of the `iid` parameter will change from True to False in version 0.22 and will be removed in 0.24. This will change numeric results when test-set sizes are unequal.\n",
      "  DeprecationWarning)\n"
     ]
    },
    {
     "name": "stdout",
     "output_type": "stream",
     "text": [
      "0.0 0.0\n",
      "93\n",
      "0.0 0.05263157894736842\n",
      "94\n",
      "0.125 0.125\n",
      "95\n"
     ]
    },
    {
     "name": "stderr",
     "output_type": "stream",
     "text": [
      "//anaconda3/lib/python3.7/site-packages/sklearn/model_selection/_search.py:813: DeprecationWarning: The default of the `iid` parameter will change from True to False in version 0.22 and will be removed in 0.24. This will change numeric results when test-set sizes are unequal.\n",
      "  DeprecationWarning)\n"
     ]
    },
    {
     "name": "stdout",
     "output_type": "stream",
     "text": [
      "0.14705882352941177 0.17647058823529413\n",
      "96\n"
     ]
    },
    {
     "name": "stderr",
     "output_type": "stream",
     "text": [
      "//anaconda3/lib/python3.7/site-packages/sklearn/model_selection/_search.py:813: DeprecationWarning: The default of the `iid` parameter will change from True to False in version 0.22 and will be removed in 0.24. This will change numeric results when test-set sizes are unequal.\n",
      "  DeprecationWarning)\n"
     ]
    },
    {
     "name": "stdout",
     "output_type": "stream",
     "text": [
      "0.0 0.6666666666666666\n",
      "97\n",
      "0.08695652173913043 0.2391304347826087\n",
      "98\n"
     ]
    },
    {
     "name": "stderr",
     "output_type": "stream",
     "text": [
      "//anaconda3/lib/python3.7/site-packages/sklearn/model_selection/_search.py:813: DeprecationWarning: The default of the `iid` parameter will change from True to False in version 0.22 and will be removed in 0.24. This will change numeric results when test-set sizes are unequal.\n",
      "  DeprecationWarning)\n"
     ]
    },
    {
     "name": "stdout",
     "output_type": "stream",
     "text": [
      "0.1875 0.0\n",
      "99\n",
      "0.0 0.0\n"
     ]
    }
   ],
   "source": [
    "# no.0-99 test playlists\n",
    "scores_lr5 = []\n",
    "scores_lr_ridge = []\n",
    "for i in range(100):\n",
    "    print(i)\n",
    "    test_playlist = dic_test[i]\n",
    "    lr = KNeighborsRegressor(n_neighbors=3)\n",
    "    lr2 = RidgeCV(cv = 3)\n",
    "    score1, score2 = test_model_performance_two(test_playlist, dic, 0.2, lr, lr2, 20, 20)\n",
    "    print(score1, score2)\n",
    "    scores_lr5.append(score1)\n",
    "    scores_lr_ridge.append(score2)"
   ]
  },
  {
   "cell_type": "code",
   "execution_count": 209,
   "metadata": {},
   "outputs": [
    {
     "data": {
      "text/plain": [
       "0.07680518854309808"
      ]
     },
     "execution_count": 209,
     "metadata": {},
     "output_type": "execute_result"
    }
   ],
   "source": [
    "np.mean(scores_lr5)"
   ]
  },
  {
   "cell_type": "code",
   "execution_count": 210,
   "metadata": {},
   "outputs": [
    {
     "data": {
      "text/plain": [
       "0.04189140294707141"
      ]
     },
     "execution_count": 210,
     "metadata": {},
     "output_type": "execute_result"
    }
   ],
   "source": [
    "np.mean(scores_lr_ridge)"
   ]
  },
  {
   "cell_type": "code",
   "execution_count": 237,
   "metadata": {},
   "outputs": [
    {
     "data": {
      "image/png": "[encoded data removed]",
      "text/plain": [
       "<Figure size 432x288 with 1 Axes>"
      ]
     },
     "metadata": {
      "needs_background": "light"
     },
     "output_type": "display_data"
    }
   ],
   "source": [
    "plt.hist(scores_lr5[:100], label = 'Nearest Neighbor combined with KNN regression', alpha = 0.5, bins=30)\n",
    "plt.hist(scores_lr_ridge, label = 'Nearest Neighbor combined with Ridge regression', alpha = 0.5, bins=30)\n",
    "plt.title('Model comparison in the first 100 test playlists')\n",
    "plt.xlabel('r-precision')\n",
    "plt.ylabel('count')\n",
    "plt.legend()\n",
    "plt.savefig('comparison.png')"
   ]
  },
  {
   "cell_type": "markdown",
   "metadata": {},
   "source": [
    "Therefore, Nearest Neighbor with KNN using song features outperforms Nearest Neighbor with ridge regression in the test set significantly.\n",
    "\n",
    "The whole performance of our best model in the 1000 test playlists is:"
   ]
  },
  {
   "cell_type": "code",
   "execution_count": 211,
   "metadata": {},
   "outputs": [],
   "source": [
    "scores_lr5.extend(scores_lr2)"
   ]
  },
  {
   "cell_type": "code",
   "execution_count": 213,
   "metadata": {},
   "outputs": [
    {
     "data": {
      "text/plain": [
       "300"
      ]
     },
     "execution_count": 213,
     "metadata": {},
     "output_type": "execute_result"
    }
   ],
   "source": [
    "len(scores_lr5)"
   ]
  },
  {
   "cell_type": "code",
   "execution_count": 215,
   "metadata": {},
   "outputs": [],
   "source": [
    "scores_knn = scores_lr5+ scores_lr3 + scores_lr4"
   ]
  },
  {
   "cell_type": "markdown",
   "metadata": {},
   "source": [
    "### 2.5 Model Performance Conclusion"
   ]
  },
  {
   "cell_type": "code",
   "execution_count": 225,
   "metadata": {},
   "outputs": [
    {
     "name": "stdout",
     "output_type": "stream",
     "text": [
      "The r-precision in the 1000 test playlists is:  0.08214751281115763\n"
     ]
    }
   ],
   "source": [
    "print('The r-precision in the 1000 test playlists is: ', np.mean(scores_knn))"
   ]
  },
  {
   "cell_type": "code",
   "execution_count": 230,
   "metadata": {},
   "outputs": [
    {
     "data": {
      "image/png": "[encoded data removed]",
      "text/plain": [
       "<Figure size 432x288 with 1 Axes>"
      ]
     },
     "metadata": {
      "needs_background": "light"
     },
     "output_type": "display_data"
    }
   ],
   "source": [
    "plt.hist(scores_knn, label = 'Nearest Neighbor combined with KNN regression', alpha = 0.7, bins=30)\n",
    "plt.title('The histogram of r-precision in the 1000 test playlists')\n",
    "plt.xlabel('r-precision')\n",
    "plt.ylabel('count')\n",
    "plt.legend()\n",
    "plt.savefig('KNN+othermodel.png')\n"
   ]
  },
  {
   "cell_type": "markdown",
   "metadata": {},
   "source": [
    "## 3. Conclusion"
   ]
  },
  {
   "cell_type": "markdown",
   "metadata": {},
   "source": [
    "As we have shown in the test evaluation above, the model with best performance in this page is Nearest Neighbor combined with KNN regression using song features. To be specific, the prediction model is conduct in the following process. First, given an incomplete test playlist, find the 20 playlists in the training set that share the most common songs with the target, labeling each song with their frequency in 20 playlists. Then find the 20 playlists in the training set that share the least common songs with the target, labeling them with -1. The next step is using KNN model with 3 nearest neghibors to train the selected data with normalized and standardized song features. Last, use the trained model to predict the songs in 20 nearest playlists, and choose songs with highest predicted value. In each test playlist, we use the first 80% songs to predict the other 20%. The r-precision is 0.08215 in the 1000 test playlists. "
   ]
  }
 ],
 "metadata": {
  "kernelspec": {
   "display_name": "Python 3",
   "language": "python",
   "name": "python3"
  },
  "language_info": {
   "codemirror_mode": {
    "name": "ipython",
    "version": 3
   },
   "file_extension": ".py",
   "mimetype": "text/x-python",
   "name": "python",
   "nbconvert_exporter": "python",
   "pygments_lexer": "ipython3",
   "version": "3.6.9"
  }
 },
 "nbformat": 4,
 "nbformat_minor": 2
}
