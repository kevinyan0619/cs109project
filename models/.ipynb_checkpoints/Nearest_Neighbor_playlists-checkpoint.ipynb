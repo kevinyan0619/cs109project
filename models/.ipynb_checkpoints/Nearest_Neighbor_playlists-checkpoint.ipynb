{
 "cells": [
  {
   "cell_type": "code",
   "execution_count": 1,
   "metadata": {},
   "outputs": [],
   "source": [
    "import pandas as pd\n",
    "import numpy as np\n",
    "import matplotlib.pyplot as plt\n",
    "import seaborn as sns\n",
    "import glob"
   ]
  },
  {
   "cell_type": "code",
   "execution_count": 2,
   "metadata": {},
   "outputs": [],
   "source": [
    "path = \"./data1\"\n",
    "all_files = glob.glob(path + \"/*.csv\")\n",
    "\n",
    "def rank(path):\n",
    "    return int(path.split('/')[2].split('.')[0][5:])\n",
    "\n",
    "all_files = sorted(all_files, key=rank)"
   ]
  },
  {
   "cell_type": "code",
   "execution_count": 3,
   "metadata": {},
   "outputs": [],
   "source": [
    "li = []\n",
    "# read in the first 30 csv files\n",
    "pid_base = 0\n",
    "for filename in all_files:\n",
    "    df = pd.read_csv(filename, index_col=None)\n",
    "    df['pid'] = df['pid'] + pid_base\n",
    "    li.append(df)\n",
    "    pid_base += 1000\n",
    "\n",
    "dfs = pd.concat(li, axis=0, ignore_index=True)"
   ]
  },
  {
   "cell_type": "code",
   "execution_count": 4,
   "metadata": {},
   "outputs": [],
   "source": [
    "# def cos_sim(a, b):\n",
    "#     dot = np.dot(a, b)\n",
    "#     a_norm = np.linalg.norm(a)\n",
    "#     b_norm = np.linalg.norm(b)\n",
    "#     return dot / (a_norm * b_norm)"
   ]
  },
  {
   "cell_type": "code",
   "execution_count": 5,
   "metadata": {},
   "outputs": [
    {
     "data": {
      "text/html": [
       "<div>\n",
       "<style scoped>\n",
       "    .dataframe tbody tr th:only-of-type {\n",
       "        vertical-align: middle;\n",
       "    }\n",
       "\n",
       "    .dataframe tbody tr th {\n",
       "        vertical-align: top;\n",
       "    }\n",
       "\n",
       "    .dataframe thead th {\n",
       "        text-align: right;\n",
       "    }\n",
       "</style>\n",
       "<table border=\"1\" class=\"dataframe\">\n",
       "  <thead>\n",
       "    <tr style=\"text-align: right;\">\n",
       "      <th></th>\n",
       "      <th>pid</th>\n",
       "      <th>pos</th>\n",
       "      <th>artist_name</th>\n",
       "      <th>track_uri</th>\n",
       "      <th>artist_uri</th>\n",
       "      <th>track_name</th>\n",
       "      <th>album_uri</th>\n",
       "      <th>duration_ms</th>\n",
       "      <th>album_name</th>\n",
       "    </tr>\n",
       "  </thead>\n",
       "  <tbody>\n",
       "    <tr>\n",
       "      <th>2076002</th>\n",
       "      <td>30999</td>\n",
       "      <td>42</td>\n",
       "      <td>Natalie Cole</td>\n",
       "      <td>spotify:track:4Dno5w6kIkz9qJM9FqL61o</td>\n",
       "      <td>spotify:artist:5tTsrGPwQRWUsHR2Xf7Ke9</td>\n",
       "      <td>Medley: For Sentimental Reasons / Tenderly / A...</td>\n",
       "      <td>spotify:album:78qajwwkI8eOt1DrnUOtuL</td>\n",
       "      <td>452746</td>\n",
       "      <td>Unforgettable: With Love</td>\n",
       "    </tr>\n",
       "    <tr>\n",
       "      <th>2076003</th>\n",
       "      <td>30999</td>\n",
       "      <td>43</td>\n",
       "      <td>Frank Sinatra</td>\n",
       "      <td>spotify:track:2PRq7qR6hT5FWfagC4wFfm</td>\n",
       "      <td>spotify:artist:1Mxqyy3pSjf8kZZL4QVxS0</td>\n",
       "      <td>Don'cha Go 'Way Mad</td>\n",
       "      <td>spotify:album:7B45fvRtEecfSqKqUYXh6X</td>\n",
       "      <td>191626</td>\n",
       "      <td>Sinatra And Swingin' Brass</td>\n",
       "    </tr>\n",
       "    <tr>\n",
       "      <th>2076004</th>\n",
       "      <td>30999</td>\n",
       "      <td>44</td>\n",
       "      <td>Quincy Jones</td>\n",
       "      <td>spotify:track:3oSFAA9uFbtokLDyLTMbX6</td>\n",
       "      <td>spotify:artist:3rxIQc9kWT6Ueg4BhnOwRK</td>\n",
       "      <td>You Turned The Tables On Me</td>\n",
       "      <td>spotify:album:4Ku1ZZXHwzJiWqm7itvuZI</td>\n",
       "      <td>152026</td>\n",
       "      <td>I Dig Dancers</td>\n",
       "    </tr>\n",
       "    <tr>\n",
       "      <th>2076005</th>\n",
       "      <td>30999</td>\n",
       "      <td>45</td>\n",
       "      <td>Stevie Wonder</td>\n",
       "      <td>spotify:track:4UjeXiBihLSc7WFECGFkmJ</td>\n",
       "      <td>spotify:artist:7guDJrEfX3qb6FEbdPA5qi</td>\n",
       "      <td>Knocks Me Off My Feet</td>\n",
       "      <td>spotify:album:2HVx2tiZnLX8xeaUthed1e</td>\n",
       "      <td>216456</td>\n",
       "      <td>Songs In The Key Of Life</td>\n",
       "    </tr>\n",
       "    <tr>\n",
       "      <th>2076006</th>\n",
       "      <td>30999</td>\n",
       "      <td>46</td>\n",
       "      <td>Common</td>\n",
       "      <td>spotify:track:148LD1wYrUQR3cluHlartB</td>\n",
       "      <td>spotify:artist:2GHclqNVjqGuiE5mA7BEoc</td>\n",
       "      <td>Changes</td>\n",
       "      <td>spotify:album:6wl2laSmw3sucFUwRlqAP2</td>\n",
       "      <td>238200</td>\n",
       "      <td>Universal Mind Control</td>\n",
       "    </tr>\n",
       "  </tbody>\n",
       "</table>\n",
       "</div>"
      ],
      "text/plain": [
       "           pid  pos    artist_name                             track_uri  \\\n",
       "2076002  30999   42   Natalie Cole  spotify:track:4Dno5w6kIkz9qJM9FqL61o   \n",
       "2076003  30999   43  Frank Sinatra  spotify:track:2PRq7qR6hT5FWfagC4wFfm   \n",
       "2076004  30999   44   Quincy Jones  spotify:track:3oSFAA9uFbtokLDyLTMbX6   \n",
       "2076005  30999   45  Stevie Wonder  spotify:track:4UjeXiBihLSc7WFECGFkmJ   \n",
       "2076006  30999   46         Common  spotify:track:148LD1wYrUQR3cluHlartB   \n",
       "\n",
       "                                    artist_uri  \\\n",
       "2076002  spotify:artist:5tTsrGPwQRWUsHR2Xf7Ke9   \n",
       "2076003  spotify:artist:1Mxqyy3pSjf8kZZL4QVxS0   \n",
       "2076004  spotify:artist:3rxIQc9kWT6Ueg4BhnOwRK   \n",
       "2076005  spotify:artist:7guDJrEfX3qb6FEbdPA5qi   \n",
       "2076006  spotify:artist:2GHclqNVjqGuiE5mA7BEoc   \n",
       "\n",
       "                                                track_name  \\\n",
       "2076002  Medley: For Sentimental Reasons / Tenderly / A...   \n",
       "2076003                                Don'cha Go 'Way Mad   \n",
       "2076004                        You Turned The Tables On Me   \n",
       "2076005                              Knocks Me Off My Feet   \n",
       "2076006                                            Changes   \n",
       "\n",
       "                                    album_uri  duration_ms  \\\n",
       "2076002  spotify:album:78qajwwkI8eOt1DrnUOtuL       452746   \n",
       "2076003  spotify:album:7B45fvRtEecfSqKqUYXh6X       191626   \n",
       "2076004  spotify:album:4Ku1ZZXHwzJiWqm7itvuZI       152026   \n",
       "2076005  spotify:album:2HVx2tiZnLX8xeaUthed1e       216456   \n",
       "2076006  spotify:album:6wl2laSmw3sucFUwRlqAP2       238200   \n",
       "\n",
       "                         album_name  \n",
       "2076002    Unforgettable: With Love  \n",
       "2076003  Sinatra And Swingin' Brass  \n",
       "2076004               I Dig Dancers  \n",
       "2076005    Songs In The Key Of Life  \n",
       "2076006      Universal Mind Control  "
      ]
     },
     "execution_count": 5,
     "metadata": {},
     "output_type": "execute_result"
    }
   ],
   "source": [
    "dfs.tail()"
   ]
  },
  {
   "cell_type": "code",
   "execution_count": 6,
   "metadata": {},
   "outputs": [],
   "source": [
    "dic = dict()"
   ]
  },
  {
   "cell_type": "code",
   "execution_count": 7,
   "metadata": {},
   "outputs": [],
   "source": [
    "# construct dictionary where key is playlist id and value is a list of track_uris that are in this playlist\n",
    "for i, row in dfs.iterrows():\n",
    "    if row['pid'] in dic:\n",
    "        dic[row['pid']].append(row['track_uri'])\n",
    "    else:\n",
    "        dic[row['pid']] = [row['track_uri']]"
   ]
  },
  {
   "cell_type": "code",
   "execution_count": 8,
   "metadata": {},
   "outputs": [],
   "source": [
    "# define cosine similarity to measure similaritiy between playlists\n",
    "def cos_sim1(dic, a, b):\n",
    "    a_tracks = set(dic[a])\n",
    "    b_tracks = set(dic[b])\n",
    "    inter = len(a_tracks.intersection(b_tracks))\n",
    "    a_norm = np.sqrt(len(a_tracks))\n",
    "    b_norm = np.sqrt(len(b_tracks))\n",
    "    \n",
    "    return inter / (a_norm * b_norm)"
   ]
  },
  {
   "cell_type": "code",
   "execution_count": 9,
   "metadata": {},
   "outputs": [],
   "source": [
    "# base=1\n",
    "# res = []\n",
    "# base_tracks = set(dic[base])\n",
    "# num_base = len(base_tracks)\n",
    "# for p, s in sim_list:\n",
    "#     p_tracks = set(dic[p])\n",
    "#     diff = list(p_tracks.difference(base_tracks))\n",
    "#     cur_diff = num_base - len(res) \n",
    "    \n",
    "#     if cur_diff > 0:\n",
    "#         num_candi = len(diff)\n",
    "        \n",
    "#         if num_candi <= cur_diff: \n",
    "#             res.extend(diff)\n",
    "#         else:\n",
    "#             res.extend(diff[:cur_diff])\n",
    "#             break     \n",
    "#     else:\n",
    "#         break"
   ]
  },
  {
   "cell_type": "code",
   "execution_count": 10,
   "metadata": {},
   "outputs": [],
   "source": [
    "def get_sims_for_track(dic, base):\n",
    "    sim_list = []\n",
    "    for key in dic.keys():\n",
    "        sim = cos_sim1(dic, base, key)\n",
    "        sim_list.append([key, sim])\n",
    "    sim_list = sorted(sim_list, key=lambda x: -x[1])\n",
    "    sim_list = sim_list[1:]\n",
    "    return sim_list\n",
    "\n",
    "\n",
    "def recommend_playlist(dic, base):\n",
    "    \"\"\"\n",
    "    recommend songs from the most similar playlists in terms of cosine similarity\n",
    "    \"\"\"\n",
    "    res = []\n",
    "    base_tracks = set(dic[base])\n",
    "    num_base = len(base_tracks)\n",
    "    \n",
    "    # get a list of most similar playlists given the base playlist\n",
    "    sim_list = get_sims_for_track(dic, base)\n",
    "    for p, s in sim_list:\n",
    "        p_tracks = set(dic[p])\n",
    "        diff = list(p_tracks.difference(base_tracks))\n",
    "        \n",
    "        # recommend n songs for each playlist, where n is the original playlist size\n",
    "        cur_diff = num_base - len(res) \n",
    "\n",
    "        if cur_diff > 0:\n",
    "            num_candi = len(diff)\n",
    "\n",
    "            if num_candi <= cur_diff: \n",
    "                res.extend(diff)\n",
    "            else:\n",
    "                res.extend(diff[:cur_diff])\n",
    "                break     \n",
    "        else:\n",
    "            break\n",
    "            \n",
    "    return res\n"
   ]
  },
  {
   "cell_type": "code",
   "execution_count": 11,
   "metadata": {},
   "outputs": [],
   "source": [
    "def eval_playlist(test_tracks, recommended_tracks):\n",
    "    # r-precision evaluation\n",
    "    test = set(test_tracks)\n",
    "    pred = set(recommended_tracks)\n",
    "    res = list(test & pred)\n",
    "    return len(res) / len(test)\n",
    "\n",
    "\n",
    "def recommend_eval(dic,split_ratio):\n",
    "    res = []\n",
    "    \n",
    "    for base in dic.keys():\n",
    "        ratio = int(split_ratio*len(dic[base]))\n",
    "        \n",
    "        dic_temp = dic.copy()\n",
    "        \n",
    "        dic_temp[base] = dic[base][:ratio]\n",
    "        \n",
    "        recommended_tracks = recommend_playlist(dic_temp, base)\n",
    "        r_precision = eval_playlist(dic[base][ratio:], recommended_tracks)\n",
    "        res.append(r_precision)\n",
    "    return res"
   ]
  },
  {
   "cell_type": "code",
   "execution_count": 12,
   "metadata": {},
   "outputs": [],
   "source": [
    "del dfs"
   ]
  },
  {
   "cell_type": "code",
   "execution_count": 13,
   "metadata": {},
   "outputs": [],
   "source": [
    "# evaluation file\n",
    "df1 = pd.read_csv('songs0.csv')"
   ]
  },
  {
   "cell_type": "code",
   "execution_count": 14,
   "metadata": {},
   "outputs": [],
   "source": [
    "# construct dictionary where key is playlist id and value is a list of track_uris that are in this playlist\n",
    "dic1 = {}\n",
    "for i, row in df1.iterrows():\n",
    "    if row['pid'] in dic1:\n",
    "        dic1[row['pid']].append(row['track_uri'])\n",
    "    else:\n",
    "        dic1[row['pid']] = [row['track_uri']]\n",
    "\n",
    "\n",
    "res = recommend_eval(dic1, 0.8)"
   ]
  },
  {
   "cell_type": "code",
   "execution_count": 18,
   "metadata": {},
   "outputs": [
    {
     "data": {
      "text/plain": [
       "0.04403777404239364"
      ]
     },
     "execution_count": 18,
     "metadata": {},
     "output_type": "execute_result"
    }
   ],
   "source": [
    "np.mean(res)"
   ]
  },
  {
   "cell_type": "code",
   "execution_count": 15,
   "metadata": {},
   "outputs": [
    {
     "data": {
      "image/png": "[encoded data removed]",
      "text/plain": [
       "<Figure size 576x432 with 1 Axes>"
      ]
     },
     "metadata": {
      "needs_background": "light"
     },
     "output_type": "display_data"
    }
   ],
   "source": [
    "plt.figure(figsize=(8,6))\n",
    "plt.title('r-precison among the first 31000 playlists')\n",
    "plt.xlabel('r-precison')\n",
    "plt.ylabel('count')\n",
    "plt.hist(res, bins=80)\n",
    "plt.show()"
   ]
  },
  {
   "cell_type": "code",
   "execution_count": 16,
   "metadata": {},
   "outputs": [],
   "source": [
    "res1 = np.take(res, np.nonzero(res)[0])"
   ]
  },
  {
   "cell_type": "code",
   "execution_count": 17,
   "metadata": {},
   "outputs": [
    {
     "data": {
      "image/png": "[encoded data removed]",
      "text/plain": [
       "<Figure size 576x432 with 1 Axes>"
      ]
     },
     "metadata": {
      "needs_background": "light"
     },
     "output_type": "display_data"
    }
   ],
   "source": [
    "plt.figure(figsize=(8,6))\n",
    "plt.title('r-precison among the first 31000 playlists with non-zero r-precisions')\n",
    "plt.xlabel('r-precison')\n",
    "plt.ylabel('count')\n",
    "plt.hist(res1, bins=80)\n",
    "plt.show()"
   ]
  },
  {
   "cell_type": "code",
   "execution_count": null,
   "metadata": {},
   "outputs": [],
   "source": []
  }
 ],
 "metadata": {
  "kernelspec": {
   "display_name": "Python 3",
   "language": "python",
   "name": "python3"
  },
  "language_info": {
   "codemirror_mode": {
    "name": "ipython",
    "version": 3
   },
   "file_extension": ".py",
   "mimetype": "text/x-python",
   "name": "python",
   "nbconvert_exporter": "python",
   "pygments_lexer": "ipython3",
   "version": "3.6.9"
  }
 },
 "nbformat": 4,
 "nbformat_minor": 2
}
